{
 "cells": [
  {
   "cell_type": "code",
   "execution_count": 1,
   "metadata": {},
   "outputs": [
    {
     "data": {
      "text/html": [
       "        <script type=\"text/javascript\">\n",
       "        window.PlotlyConfig = {MathJaxConfig: 'local'};\n",
       "        if (window.MathJax) {MathJax.Hub.Config({SVG: {font: \"STIX-Web\"}});}\n",
       "        if (typeof require !== 'undefined') {\n",
       "        require.undef(\"plotly\");\n",
       "        requirejs.config({\n",
       "            paths: {\n",
       "                'plotly': ['https://cdn.plot.ly/plotly-2.11.1.min']\n",
       "            }\n",
       "        });\n",
       "        require(['plotly'], function(Plotly) {\n",
       "            window._Plotly = Plotly;\n",
       "        });\n",
       "        }\n",
       "        </script>\n",
       "        "
      ]
     },
     "metadata": {},
     "output_type": "display_data"
    },
    {
     "name": "stdout",
     "output_type": "stream",
     "text": [
      "/Users/mohammedmutaharshaik/Desktop/ImpactofCovid19_OnDigitalLearning/resources/.DS_Store\n",
      "/Users/mohammedmutaharshaik/Desktop/ImpactofCovid19_OnDigitalLearning/resources/products_info.csv\n",
      "/Users/mohammedmutaharshaik/Desktop/ImpactofCovid19_OnDigitalLearning/resources/districts_info.csv\n",
      "/Users/mohammedmutaharshaik/Desktop/ImpactofCovid19_OnDigitalLearning/resources/engagementData/3188.csv\n",
      "/Users/mohammedmutaharshaik/Desktop/ImpactofCovid19_OnDigitalLearning/resources/engagementData/7305.csv\n",
      "/Users/mohammedmutaharshaik/Desktop/ImpactofCovid19_OnDigitalLearning/resources/engagementData/7675.csv\n",
      "/Users/mohammedmutaharshaik/Desktop/ImpactofCovid19_OnDigitalLearning/resources/engagementData/1204.csv\n",
      "/Users/mohammedmutaharshaik/Desktop/ImpactofCovid19_OnDigitalLearning/resources/engagementData/4591.csv\n",
      "/Users/mohammedmutaharshaik/Desktop/ImpactofCovid19_OnDigitalLearning/resources/engagementData/6345.csv\n",
      "/Users/mohammedmutaharshaik/Desktop/ImpactofCovid19_OnDigitalLearning/resources/engagementData/4744.csv\n",
      "/Users/mohammedmutaharshaik/Desktop/ImpactofCovid19_OnDigitalLearning/resources/engagementData/2321.csv\n",
      "/Users/mohammedmutaharshaik/Desktop/ImpactofCovid19_OnDigitalLearning/resources/engagementData/3228.csv\n",
      "/Users/mohammedmutaharshaik/Desktop/ImpactofCovid19_OnDigitalLearning/resources/engagementData/8433.csv\n",
      "/Users/mohammedmutaharshaik/Desktop/ImpactofCovid19_OnDigitalLearning/resources/engagementData/3412.csv\n",
      "/Users/mohammedmutaharshaik/Desktop/ImpactofCovid19_OnDigitalLearning/resources/engagementData/7660.csv\n",
      "/Users/mohammedmutaharshaik/Desktop/ImpactofCovid19_OnDigitalLearning/resources/engagementData/6998.csv\n",
      "/Users/mohammedmutaharshaik/Desktop/ImpactofCovid19_OnDigitalLearning/resources/engagementData/8784.csv\n",
      "/Users/mohammedmutaharshaik/Desktop/ImpactofCovid19_OnDigitalLearning/resources/engagementData/3160.csv\n",
      "/Users/mohammedmutaharshaik/Desktop/ImpactofCovid19_OnDigitalLearning/resources/engagementData/1039.csv\n",
      "/Users/mohammedmutaharshaik/Desktop/ImpactofCovid19_OnDigitalLearning/resources/engagementData/9303.csv\n",
      "/Users/mohammedmutaharshaik/Desktop/ImpactofCovid19_OnDigitalLearning/resources/engagementData/5934.csv\n",
      "/Users/mohammedmutaharshaik/Desktop/ImpactofCovid19_OnDigitalLearning/resources/engagementData/1549.csv\n",
      "/Users/mohammedmutaharshaik/Desktop/ImpactofCovid19_OnDigitalLearning/resources/engagementData/2685.csv\n",
      "/Users/mohammedmutaharshaik/Desktop/ImpactofCovid19_OnDigitalLearning/resources/engagementData/8425.csv\n",
      "/Users/mohammedmutaharshaik/Desktop/ImpactofCovid19_OnDigitalLearning/resources/engagementData/3558.csv\n",
      "/Users/mohammedmutaharshaik/Desktop/ImpactofCovid19_OnDigitalLearning/resources/engagementData/3772.csv\n",
      "/Users/mohammedmutaharshaik/Desktop/ImpactofCovid19_OnDigitalLearning/resources/engagementData/6144.csv\n",
      "/Users/mohammedmutaharshaik/Desktop/ImpactofCovid19_OnDigitalLearning/resources/engagementData/8815.csv\n",
      "/Users/mohammedmutaharshaik/Desktop/ImpactofCovid19_OnDigitalLearning/resources/engagementData/4949.csv\n",
      "/Users/mohammedmutaharshaik/Desktop/ImpactofCovid19_OnDigitalLearning/resources/engagementData/5882.csv\n",
      "/Users/mohammedmutaharshaik/Desktop/ImpactofCovid19_OnDigitalLearning/resources/engagementData/4550.csv\n",
      "/Users/mohammedmutaharshaik/Desktop/ImpactofCovid19_OnDigitalLearning/resources/engagementData/2257.csv\n",
      "/Users/mohammedmutaharshaik/Desktop/ImpactofCovid19_OnDigitalLearning/resources/engagementData/5510.csv\n",
      "/Users/mohammedmutaharshaik/Desktop/ImpactofCovid19_OnDigitalLearning/resources/engagementData/4183.csv\n",
      "/Users/mohammedmutaharshaik/Desktop/ImpactofCovid19_OnDigitalLearning/resources/engagementData/1000.csv\n",
      "/Users/mohammedmutaharshaik/Desktop/ImpactofCovid19_OnDigitalLearning/resources/engagementData/1772.csv\n",
      "/Users/mohammedmutaharshaik/Desktop/ImpactofCovid19_OnDigitalLearning/resources/engagementData/1558.csv\n",
      "/Users/mohammedmutaharshaik/Desktop/ImpactofCovid19_OnDigitalLearning/resources/engagementData/1570.csv\n",
      "/Users/mohammedmutaharshaik/Desktop/ImpactofCovid19_OnDigitalLearning/resources/engagementData/4408.csv\n",
      "/Users/mohammedmutaharshaik/Desktop/ImpactofCovid19_OnDigitalLearning/resources/engagementData/2870.csv\n",
      "/Users/mohammedmutaharshaik/Desktop/ImpactofCovid19_OnDigitalLearning/resources/engagementData/2441.csv\n",
      "/Users/mohammedmutaharshaik/Desktop/ImpactofCovid19_OnDigitalLearning/resources/engagementData/4031.csv\n",
      "/Users/mohammedmutaharshaik/Desktop/ImpactofCovid19_OnDigitalLearning/resources/engagementData/3986.csv\n",
      "/Users/mohammedmutaharshaik/Desktop/ImpactofCovid19_OnDigitalLearning/resources/engagementData/9515.csv\n",
      "/Users/mohammedmutaharshaik/Desktop/ImpactofCovid19_OnDigitalLearning/resources/engagementData/6418.csv\n",
      "/Users/mohammedmutaharshaik/Desktop/ImpactofCovid19_OnDigitalLearning/resources/engagementData/4569.csv\n",
      "/Users/mohammedmutaharshaik/Desktop/ImpactofCovid19_OnDigitalLearning/resources/engagementData/2130.csv\n",
      "/Users/mohammedmutaharshaik/Desktop/ImpactofCovid19_OnDigitalLearning/resources/engagementData/2285.csv\n",
      "/Users/mohammedmutaharshaik/Desktop/ImpactofCovid19_OnDigitalLearning/resources/engagementData/8796.csv\n",
      "/Users/mohammedmutaharshaik/Desktop/ImpactofCovid19_OnDigitalLearning/resources/engagementData/9463.csv\n",
      "/Users/mohammedmutaharshaik/Desktop/ImpactofCovid19_OnDigitalLearning/resources/engagementData/9729.csv\n",
      "/Users/mohammedmutaharshaik/Desktop/ImpactofCovid19_OnDigitalLearning/resources/engagementData/8184.csv\n",
      "/Users/mohammedmutaharshaik/Desktop/ImpactofCovid19_OnDigitalLearning/resources/engagementData/6194.csv\n",
      "/Users/mohammedmutaharshaik/Desktop/ImpactofCovid19_OnDigitalLearning/resources/engagementData/districts_info (2).csv\n",
      "/Users/mohammedmutaharshaik/Desktop/ImpactofCovid19_OnDigitalLearning/resources/engagementData/5890.csv\n",
      "/Users/mohammedmutaharshaik/Desktop/ImpactofCovid19_OnDigitalLearning/resources/engagementData/2872.csv\n",
      "/Users/mohammedmutaharshaik/Desktop/ImpactofCovid19_OnDigitalLearning/resources/engagementData/9927.csv\n",
      "/Users/mohammedmutaharshaik/Desktop/ImpactofCovid19_OnDigitalLearning/resources/engagementData/3371.csv\n",
      "/Users/mohammedmutaharshaik/Desktop/ImpactofCovid19_OnDigitalLearning/resources/engagementData/8556.csv\n",
      "/Users/mohammedmutaharshaik/Desktop/ImpactofCovid19_OnDigitalLearning/resources/engagementData/6584.csv\n",
      "/Users/mohammedmutaharshaik/Desktop/ImpactofCovid19_OnDigitalLearning/resources/engagementData/7164.csv\n",
      "/Users/mohammedmutaharshaik/Desktop/ImpactofCovid19_OnDigitalLearning/resources/engagementData/6131.csv\n",
      "/Users/mohammedmutaharshaik/Desktop/ImpactofCovid19_OnDigitalLearning/resources/engagementData/5404.csv\n",
      "/Users/mohammedmutaharshaik/Desktop/ImpactofCovid19_OnDigitalLearning/resources/engagementData/4929.csv\n",
      "/Users/mohammedmutaharshaik/Desktop/ImpactofCovid19_OnDigitalLearning/resources/engagementData/4083.csv\n",
      "/Users/mohammedmutaharshaik/Desktop/ImpactofCovid19_OnDigitalLearning/resources/engagementData/8685.csv\n",
      "/Users/mohammedmutaharshaik/Desktop/ImpactofCovid19_OnDigitalLearning/resources/engagementData/3471.csv\n",
      "/Users/mohammedmutaharshaik/Desktop/ImpactofCovid19_OnDigitalLearning/resources/engagementData/8256.csv\n",
      "/Users/mohammedmutaharshaik/Desktop/ImpactofCovid19_OnDigitalLearning/resources/engagementData/2209.csv\n",
      "/Users/mohammedmutaharshaik/Desktop/ImpactofCovid19_OnDigitalLearning/resources/engagementData/6721.csv\n",
      "/Users/mohammedmutaharshaik/Desktop/ImpactofCovid19_OnDigitalLearning/resources/engagementData/3301.csv\n",
      "/Users/mohammedmutaharshaik/Desktop/ImpactofCovid19_OnDigitalLearning/resources/engagementData/1270.csv\n",
      "/Users/mohammedmutaharshaik/Desktop/ImpactofCovid19_OnDigitalLearning/resources/engagementData/2779.csv\n",
      "/Users/mohammedmutaharshaik/Desktop/ImpactofCovid19_OnDigitalLearning/resources/engagementData/5604.csv\n",
      "/Users/mohammedmutaharshaik/Desktop/ImpactofCovid19_OnDigitalLearning/resources/engagementData/3936.csv\n",
      "/Users/mohammedmutaharshaik/Desktop/ImpactofCovid19_OnDigitalLearning/resources/engagementData/6640.csv\n",
      "/Users/mohammedmutaharshaik/Desktop/ImpactofCovid19_OnDigitalLearning/resources/engagementData/3710.csv\n",
      "/Users/mohammedmutaharshaik/Desktop/ImpactofCovid19_OnDigitalLearning/resources/engagementData/3248.csv\n",
      "/Users/mohammedmutaharshaik/Desktop/ImpactofCovid19_OnDigitalLearning/resources/engagementData/6250.csv\n",
      "/Users/mohammedmutaharshaik/Desktop/ImpactofCovid19_OnDigitalLearning/resources/engagementData/7614.csv\n",
      "/Users/mohammedmutaharshaik/Desktop/ImpactofCovid19_OnDigitalLearning/resources/engagementData/3314.csv\n",
      "/Users/mohammedmutaharshaik/Desktop/ImpactofCovid19_OnDigitalLearning/resources/engagementData/6046.csv\n",
      "/Users/mohammedmutaharshaik/Desktop/ImpactofCovid19_OnDigitalLearning/resources/engagementData/3670.csv\n",
      "/Users/mohammedmutaharshaik/Desktop/ImpactofCovid19_OnDigitalLearning/resources/engagementData/8902.csv\n",
      "/Users/mohammedmutaharshaik/Desktop/ImpactofCovid19_OnDigitalLearning/resources/engagementData/1705.csv\n",
      "/Users/mohammedmutaharshaik/Desktop/ImpactofCovid19_OnDigitalLearning/resources/engagementData/7980.csv\n",
      "/Users/mohammedmutaharshaik/Desktop/ImpactofCovid19_OnDigitalLearning/resources/engagementData/9007.csv\n",
      "/Users/mohammedmutaharshaik/Desktop/ImpactofCovid19_OnDigitalLearning/resources/engagementData/2393.csv\n",
      "/Users/mohammedmutaharshaik/Desktop/ImpactofCovid19_OnDigitalLearning/resources/engagementData/8127.csv\n",
      "/Users/mohammedmutaharshaik/Desktop/ImpactofCovid19_OnDigitalLearning/resources/engagementData/9589.csv\n",
      "/Users/mohammedmutaharshaik/Desktop/ImpactofCovid19_OnDigitalLearning/resources/engagementData/1857.csv\n",
      "/Users/mohammedmutaharshaik/Desktop/ImpactofCovid19_OnDigitalLearning/resources/engagementData/5600.csv\n",
      "/Users/mohammedmutaharshaik/Desktop/ImpactofCovid19_OnDigitalLearning/resources/engagementData/7177.csv\n",
      "/Users/mohammedmutaharshaik/Desktop/ImpactofCovid19_OnDigitalLearning/resources/engagementData/5006.csv\n",
      "/Users/mohammedmutaharshaik/Desktop/ImpactofCovid19_OnDigitalLearning/resources/engagementData/4668.csv\n",
      "/Users/mohammedmutaharshaik/Desktop/ImpactofCovid19_OnDigitalLearning/resources/engagementData/4683.csv\n",
      "/Users/mohammedmutaharshaik/Desktop/ImpactofCovid19_OnDigitalLearning/resources/engagementData/6055.csv\n",
      "/Users/mohammedmutaharshaik/Desktop/ImpactofCovid19_OnDigitalLearning/resources/engagementData/1712.csv\n",
      "/Users/mohammedmutaharshaik/Desktop/ImpactofCovid19_OnDigitalLearning/resources/engagementData/products_info (2).csv\n",
      "/Users/mohammedmutaharshaik/Desktop/ImpactofCovid19_OnDigitalLearning/resources/engagementData/8520.csv\n",
      "/Users/mohammedmutaharshaik/Desktop/ImpactofCovid19_OnDigitalLearning/resources/engagementData/7798.csv\n",
      "/Users/mohammedmutaharshaik/Desktop/ImpactofCovid19_OnDigitalLearning/resources/engagementData/4520.csv\n",
      "/Users/mohammedmutaharshaik/Desktop/ImpactofCovid19_OnDigitalLearning/resources/engagementData/7767.csv\n",
      "/Users/mohammedmutaharshaik/Desktop/ImpactofCovid19_OnDigitalLearning/resources/engagementData/1470.csv\n",
      "/Users/mohammedmutaharshaik/Desktop/ImpactofCovid19_OnDigitalLearning/resources/engagementData/4051.csv\n",
      "/Users/mohammedmutaharshaik/Desktop/ImpactofCovid19_OnDigitalLearning/resources/engagementData/3266.csv\n",
      "/Users/mohammedmutaharshaik/Desktop/ImpactofCovid19_OnDigitalLearning/resources/engagementData/5987.csv\n",
      "/Users/mohammedmutaharshaik/Desktop/ImpactofCovid19_OnDigitalLearning/resources/engagementData/8723.csv\n",
      "/Users/mohammedmutaharshaik/Desktop/ImpactofCovid19_OnDigitalLearning/resources/engagementData/1044.csv\n",
      "/Users/mohammedmutaharshaik/Desktop/ImpactofCovid19_OnDigitalLearning/resources/engagementData/4666.csv\n",
      "/Users/mohammedmutaharshaik/Desktop/ImpactofCovid19_OnDigitalLearning/resources/engagementData/2940.csv\n",
      "/Users/mohammedmutaharshaik/Desktop/ImpactofCovid19_OnDigitalLearning/resources/engagementData/README.md\n",
      "/Users/mohammedmutaharshaik/Desktop/ImpactofCovid19_OnDigitalLearning/resources/engagementData/9140.csv\n",
      "/Users/mohammedmutaharshaik/Desktop/ImpactofCovid19_OnDigitalLearning/resources/engagementData/7970.csv\n",
      "/Users/mohammedmutaharshaik/Desktop/ImpactofCovid19_OnDigitalLearning/resources/engagementData/7964.csv\n",
      "/Users/mohammedmutaharshaik/Desktop/ImpactofCovid19_OnDigitalLearning/resources/engagementData/4921.csv\n",
      "/Users/mohammedmutaharshaik/Desktop/ImpactofCovid19_OnDigitalLearning/resources/engagementData/2439.csv\n",
      "/Users/mohammedmutaharshaik/Desktop/ImpactofCovid19_OnDigitalLearning/resources/engagementData/7541.csv\n",
      "/Users/mohammedmutaharshaik/Desktop/ImpactofCovid19_OnDigitalLearning/resources/engagementData/6104.csv\n",
      "/Users/mohammedmutaharshaik/Desktop/ImpactofCovid19_OnDigitalLearning/resources/engagementData/1131.csv\n",
      "/Users/mohammedmutaharshaik/Desktop/ImpactofCovid19_OnDigitalLearning/resources/engagementData/3732.csv\n",
      "/Users/mohammedmutaharshaik/Desktop/ImpactofCovid19_OnDigitalLearning/resources/engagementData/5380.csv\n",
      "/Users/mohammedmutaharshaik/Desktop/ImpactofCovid19_OnDigitalLearning/resources/engagementData/5627.csv\n",
      "/Users/mohammedmutaharshaik/Desktop/ImpactofCovid19_OnDigitalLearning/resources/engagementData/8539.csv\n",
      "/Users/mohammedmutaharshaik/Desktop/ImpactofCovid19_OnDigitalLearning/resources/engagementData/3322.csv\n",
      "/Users/mohammedmutaharshaik/Desktop/ImpactofCovid19_OnDigitalLearning/resources/engagementData/9357.csv\n",
      "/Users/mohammedmutaharshaik/Desktop/ImpactofCovid19_OnDigitalLearning/resources/engagementData/7352.csv\n",
      "/Users/mohammedmutaharshaik/Desktop/ImpactofCovid19_OnDigitalLearning/resources/engagementData/1904.csv\n",
      "/Users/mohammedmutaharshaik/Desktop/ImpactofCovid19_OnDigitalLearning/resources/engagementData/6919.csv\n",
      "/Users/mohammedmutaharshaik/Desktop/ImpactofCovid19_OnDigitalLearning/resources/engagementData/7387.csv\n",
      "/Users/mohammedmutaharshaik/Desktop/ImpactofCovid19_OnDigitalLearning/resources/engagementData/6066.csv\n",
      "/Users/mohammedmutaharshaik/Desktop/ImpactofCovid19_OnDigitalLearning/resources/engagementData/5802.csv\n",
      "/Users/mohammedmutaharshaik/Desktop/ImpactofCovid19_OnDigitalLearning/resources/engagementData/4936.csv\n",
      "/Users/mohammedmutaharshaik/Desktop/ImpactofCovid19_OnDigitalLearning/resources/engagementData/8103.csv\n",
      "/Users/mohammedmutaharshaik/Desktop/ImpactofCovid19_OnDigitalLearning/resources/engagementData/9553.csv\n",
      "/Users/mohammedmutaharshaik/Desktop/ImpactofCovid19_OnDigitalLearning/resources/engagementData/3080.csv\n",
      "/Users/mohammedmutaharshaik/Desktop/ImpactofCovid19_OnDigitalLearning/resources/engagementData/4937.csv\n",
      "/Users/mohammedmutaharshaik/Desktop/ImpactofCovid19_OnDigitalLearning/resources/engagementData/8328.csv\n",
      "/Users/mohammedmutaharshaik/Desktop/ImpactofCovid19_OnDigitalLearning/resources/engagementData/1324.csv\n",
      "/Users/mohammedmutaharshaik/Desktop/ImpactofCovid19_OnDigitalLearning/resources/engagementData/9778.csv\n",
      "/Users/mohammedmutaharshaik/Desktop/ImpactofCovid19_OnDigitalLearning/resources/engagementData/7741.csv\n",
      "/Users/mohammedmutaharshaik/Desktop/ImpactofCovid19_OnDigitalLearning/resources/engagementData/4314.csv\n",
      "/Users/mohammedmutaharshaik/Desktop/ImpactofCovid19_OnDigitalLearning/resources/engagementData/2017.csv\n",
      "/Users/mohammedmutaharshaik/Desktop/ImpactofCovid19_OnDigitalLearning/resources/engagementData/1536.csv\n",
      "/Users/mohammedmutaharshaik/Desktop/ImpactofCovid19_OnDigitalLearning/resources/engagementData/2956.csv\n",
      "/Users/mohammedmutaharshaik/Desktop/ImpactofCovid19_OnDigitalLearning/resources/engagementData/2567.csv\n",
      "/Users/mohammedmutaharshaik/Desktop/ImpactofCovid19_OnDigitalLearning/resources/engagementData/2201.csv\n",
      "/Users/mohammedmutaharshaik/Desktop/ImpactofCovid19_OnDigitalLearning/resources/engagementData/1052.csv\n",
      "/Users/mohammedmutaharshaik/Desktop/ImpactofCovid19_OnDigitalLearning/resources/engagementData/8076.csv\n",
      "/Users/mohammedmutaharshaik/Desktop/ImpactofCovid19_OnDigitalLearning/resources/engagementData/8937.csv\n",
      "/Users/mohammedmutaharshaik/Desktop/ImpactofCovid19_OnDigitalLearning/resources/engagementData/2598.csv\n",
      "/Users/mohammedmutaharshaik/Desktop/ImpactofCovid19_OnDigitalLearning/resources/engagementData/3692.csv\n",
      "/Users/mohammedmutaharshaik/Desktop/ImpactofCovid19_OnDigitalLearning/resources/engagementData/2991.csv\n",
      "/Users/mohammedmutaharshaik/Desktop/ImpactofCovid19_OnDigitalLearning/resources/engagementData/2167.csv\n",
      "/Users/mohammedmutaharshaik/Desktop/ImpactofCovid19_OnDigitalLearning/resources/engagementData/4516.csv\n",
      "/Users/mohammedmutaharshaik/Desktop/ImpactofCovid19_OnDigitalLearning/resources/engagementData/2601.csv\n",
      "/Users/mohammedmutaharshaik/Desktop/ImpactofCovid19_OnDigitalLearning/resources/engagementData/1877.csv\n",
      "/Users/mohammedmutaharshaik/Desktop/ImpactofCovid19_OnDigitalLearning/resources/engagementData/6665.csv\n",
      "/Users/mohammedmutaharshaik/Desktop/ImpactofCovid19_OnDigitalLearning/resources/engagementData/9230.csv\n",
      "/Users/mohammedmutaharshaik/Desktop/ImpactofCovid19_OnDigitalLearning/resources/engagementData/8884.csv\n",
      "/Users/mohammedmutaharshaik/Desktop/ImpactofCovid19_OnDigitalLearning/resources/engagementData/5422.csv\n",
      "/Users/mohammedmutaharshaik/Desktop/ImpactofCovid19_OnDigitalLearning/resources/engagementData/2172.csv\n",
      "/Users/mohammedmutaharshaik/Desktop/ImpactofCovid19_OnDigitalLearning/resources/engagementData/6512.csv\n",
      "/Users/mohammedmutaharshaik/Desktop/ImpactofCovid19_OnDigitalLearning/resources/engagementData/9812.csv\n",
      "/Users/mohammedmutaharshaik/Desktop/ImpactofCovid19_OnDigitalLearning/resources/engagementData/2238.csv\n",
      "/Users/mohammedmutaharshaik/Desktop/ImpactofCovid19_OnDigitalLearning/resources/engagementData/5231.csv\n",
      "/Users/mohammedmutaharshaik/Desktop/ImpactofCovid19_OnDigitalLearning/resources/engagementData/3640.csv\n",
      "/Users/mohammedmutaharshaik/Desktop/ImpactofCovid19_OnDigitalLearning/resources/engagementData/3668.csv\n",
      "/Users/mohammedmutaharshaik/Desktop/ImpactofCovid19_OnDigitalLearning/resources/engagementData/7342.csv\n",
      "/Users/mohammedmutaharshaik/Desktop/ImpactofCovid19_OnDigitalLearning/resources/engagementData/5970.csv\n",
      "/Users/mohammedmutaharshaik/Desktop/ImpactofCovid19_OnDigitalLearning/resources/engagementData/7829.csv\n",
      "/Users/mohammedmutaharshaik/Desktop/ImpactofCovid19_OnDigitalLearning/resources/engagementData/8515.csv\n",
      "/Users/mohammedmutaharshaik/Desktop/ImpactofCovid19_OnDigitalLearning/resources/engagementData/7975.csv\n",
      "/Users/mohammedmutaharshaik/Desktop/ImpactofCovid19_OnDigitalLearning/resources/engagementData/7785.csv\n",
      "/Users/mohammedmutaharshaik/Desktop/ImpactofCovid19_OnDigitalLearning/resources/engagementData/7752.csv\n",
      "/Users/mohammedmutaharshaik/Desktop/ImpactofCovid19_OnDigitalLearning/resources/engagementData/8845.csv\n",
      "/Users/mohammedmutaharshaik/Desktop/ImpactofCovid19_OnDigitalLearning/resources/engagementData/5150.csv\n",
      "/Users/mohammedmutaharshaik/Desktop/ImpactofCovid19_OnDigitalLearning/resources/engagementData/1450.csv\n",
      "/Users/mohammedmutaharshaik/Desktop/ImpactofCovid19_OnDigitalLearning/resources/engagementData/1444.csv\n",
      "/Users/mohammedmutaharshaik/Desktop/ImpactofCovid19_OnDigitalLearning/resources/engagementData/2165.csv\n",
      "/Users/mohammedmutaharshaik/Desktop/ImpactofCovid19_OnDigitalLearning/resources/engagementData/9839.csv\n",
      "/Users/mohammedmutaharshaik/Desktop/ImpactofCovid19_OnDigitalLearning/resources/engagementData/6049.csv\n",
      "/Users/mohammedmutaharshaik/Desktop/ImpactofCovid19_OnDigitalLearning/resources/engagementData/8702.csv\n",
      "/Users/mohammedmutaharshaik/Desktop/ImpactofCovid19_OnDigitalLearning/resources/engagementData/2549.csv\n",
      "/Users/mohammedmutaharshaik/Desktop/ImpactofCovid19_OnDigitalLearning/resources/engagementData/3864.csv\n",
      "/Users/mohammedmutaharshaik/Desktop/ImpactofCovid19_OnDigitalLearning/resources/engagementData/8017.csv\n",
      "/Users/mohammedmutaharshaik/Desktop/ImpactofCovid19_OnDigitalLearning/resources/engagementData/6998 2.csv\n",
      "/Users/mohammedmutaharshaik/Desktop/ImpactofCovid19_OnDigitalLearning/resources/engagementData/5527.csv\n",
      "/Users/mohammedmutaharshaik/Desktop/ImpactofCovid19_OnDigitalLearning/resources/engagementData/6774.csv\n",
      "/Users/mohammedmutaharshaik/Desktop/ImpactofCovid19_OnDigitalLearning/resources/engagementData/5057.csv\n",
      "/Users/mohammedmutaharshaik/Desktop/ImpactofCovid19_OnDigitalLearning/resources/engagementData/9043.csv\n",
      "/Users/mohammedmutaharshaik/Desktop/ImpactofCovid19_OnDigitalLearning/resources/engagementData/6577.csv\n",
      "/Users/mohammedmutaharshaik/Desktop/ImpactofCovid19_OnDigitalLearning/resources/engagementData/5042.csv\n",
      "/Users/mohammedmutaharshaik/Desktop/ImpactofCovid19_OnDigitalLearning/resources/engagementData/4348.csv\n",
      "/Users/mohammedmutaharshaik/Desktop/ImpactofCovid19_OnDigitalLearning/resources/engagementData/5903.csv\n",
      "/Users/mohammedmutaharshaik/Desktop/ImpactofCovid19_OnDigitalLearning/resources/engagementData/7457.csv\n",
      "/Users/mohammedmutaharshaik/Desktop/ImpactofCovid19_OnDigitalLearning/resources/engagementData/1965.csv\n",
      "/Users/mohammedmutaharshaik/Desktop/ImpactofCovid19_OnDigitalLearning/resources/engagementData/9478.csv\n",
      "/Users/mohammedmutaharshaik/Desktop/ImpactofCovid19_OnDigitalLearning/resources/engagementData/5524.csv\n",
      "/Users/mohammedmutaharshaik/Desktop/ImpactofCovid19_OnDigitalLearning/resources/engagementData/1742.csv\n",
      "/Users/mohammedmutaharshaik/Desktop/ImpactofCovid19_OnDigitalLearning/resources/engagementData/7858.csv\n",
      "/Users/mohammedmutaharshaik/Desktop/ImpactofCovid19_OnDigitalLearning/resources/engagementData/9120.csv\n",
      "/Users/mohammedmutaharshaik/Desktop/ImpactofCovid19_OnDigitalLearning/resources/engagementData/7086.csv\n",
      "/Users/mohammedmutaharshaik/Desktop/ImpactofCovid19_OnDigitalLearning/resources/engagementData/7723.csv\n",
      "/Users/mohammedmutaharshaik/Desktop/ImpactofCovid19_OnDigitalLearning/resources/engagementData/8160.csv\n",
      "/Users/mohammedmutaharshaik/Desktop/ImpactofCovid19_OnDigitalLearning/resources/engagementData/6165.csv\n",
      "/Users/mohammedmutaharshaik/Desktop/ImpactofCovid19_OnDigitalLearning/resources/engagementData/5479.csv\n",
      "/Users/mohammedmutaharshaik/Desktop/ImpactofCovid19_OnDigitalLearning/resources/engagementData/1179.csv\n",
      "/Users/mohammedmutaharshaik/Desktop/ImpactofCovid19_OnDigitalLearning/resources/engagementData/4029.csv\n",
      "/Users/mohammedmutaharshaik/Desktop/ImpactofCovid19_OnDigitalLearning/resources/engagementData/4203.csv\n",
      "/Users/mohammedmutaharshaik/Desktop/ImpactofCovid19_OnDigitalLearning/resources/engagementData/3550.csv\n",
      "/Users/mohammedmutaharshaik/Desktop/ImpactofCovid19_OnDigitalLearning/resources/engagementData/3222.csv\n",
      "/Users/mohammedmutaharshaik/Desktop/ImpactofCovid19_OnDigitalLearning/resources/engagementData/2060.csv\n",
      "/Users/mohammedmutaharshaik/Desktop/ImpactofCovid19_OnDigitalLearning/resources/engagementData/2074.csv\n",
      "/Users/mohammedmutaharshaik/Desktop/ImpactofCovid19_OnDigitalLearning/resources/engagementData/6762.csv\n",
      "/Users/mohammedmutaharshaik/Desktop/ImpactofCovid19_OnDigitalLearning/resources/engagementData/5257.csv\n",
      "/Users/mohammedmutaharshaik/Desktop/ImpactofCovid19_OnDigitalLearning/resources/engagementData/4808.csv\n",
      "/Users/mohammedmutaharshaik/Desktop/ImpactofCovid19_OnDigitalLearning/resources/engagementData/4165.csv\n",
      "/Users/mohammedmutaharshaik/Desktop/ImpactofCovid19_OnDigitalLearning/resources/engagementData/4373.csv\n",
      "/Users/mohammedmutaharshaik/Desktop/ImpactofCovid19_OnDigitalLearning/resources/engagementData/3959.csv\n",
      "/Users/mohammedmutaharshaik/Desktop/ImpactofCovid19_OnDigitalLearning/resources/engagementData/3390.csv\n",
      "/Users/mohammedmutaharshaik/Desktop/ImpactofCovid19_OnDigitalLearning/resources/engagementData/4602.csv\n",
      "/Users/mohammedmutaharshaik/Desktop/ImpactofCovid19_OnDigitalLearning/resources/engagementData/1791.csv\n",
      "/Users/mohammedmutaharshaik/Desktop/ImpactofCovid19_OnDigitalLearning/resources/engagementData/8748.csv\n",
      "/Users/mohammedmutaharshaik/Desktop/ImpactofCovid19_OnDigitalLearning/resources/engagementData/2517.csv\n",
      "/Users/mohammedmutaharshaik/Desktop/ImpactofCovid19_OnDigitalLearning/resources/engagementData/2729.csv\n",
      "/Users/mohammedmutaharshaik/Desktop/ImpactofCovid19_OnDigitalLearning/resources/engagementData/3580.csv\n",
      "/Users/mohammedmutaharshaik/Desktop/ImpactofCovid19_OnDigitalLearning/resources/engagementData/9536.csv\n",
      "/Users/mohammedmutaharshaik/Desktop/ImpactofCovid19_OnDigitalLearning/resources/engagementData/1624.csv\n",
      "/Users/mohammedmutaharshaik/Desktop/ImpactofCovid19_OnDigitalLearning/resources/engagementData/1142.csv\n",
      "/Users/mohammedmutaharshaik/Desktop/ImpactofCovid19_OnDigitalLearning/resources/engagementData/2339.csv\n",
      "/Users/mohammedmutaharshaik/Desktop/ImpactofCovid19_OnDigitalLearning/resources/engagementData/4749.csv\n",
      "/Users/mohammedmutaharshaik/Desktop/ImpactofCovid19_OnDigitalLearning/resources/engagementData/9537.csv\n",
      "/Users/mohammedmutaharshaik/Desktop/ImpactofCovid19_OnDigitalLearning/resources/engagementData/4775.csv\n",
      "/Users/mohammedmutaharshaik/Desktop/ImpactofCovid19_OnDigitalLearning/resources/engagementData/2106.csv\n",
      "/Users/mohammedmutaharshaik/Desktop/ImpactofCovid19_OnDigitalLearning/resources/engagementData/9899.csv\n",
      "/Users/mohammedmutaharshaik/Desktop/ImpactofCovid19_OnDigitalLearning/resources/engagementData/1584.csv\n",
      "/Users/mohammedmutaharshaik/Desktop/ImpactofCovid19_OnDigitalLearning/resources/engagementData/3393.csv\n",
      "/Users/mohammedmutaharshaik/Desktop/ImpactofCovid19_OnDigitalLearning/resources/engagementData/4629.csv\n",
      "/Users/mohammedmutaharshaik/Desktop/ImpactofCovid19_OnDigitalLearning/resources/engagementData/7308.csv\n"
     ]
    }
   ],
   "source": [
    "# Import related libraries\n",
    "import numpy as np\n",
    "import pandas as pd\n",
    "import seaborn as sns\n",
    "import matplotlib.pyplot as plt\n",
    "import os, glob\n",
    "import plotly.express as px\n",
    "from plotly.offline import plot, iplot, init_notebook_mode\n",
    "init_notebook_mode(connected=True)\n",
    "# This Python 3 environment comes with many helpful analytics libraries installed\n",
    "# It is defined by the kaggle/python Docker image: https://github.com/kaggle/docker- load\n",
    "\n",
    "# Input data files are available in the read-only \"../input/\" directory\n",
    "# For example, running this (by clicking run or pressing Shift+Enter) will list all files under the input directory\n",
    "\n",
    "import os\n",
    "for dirname, _, filenames in os.walk('/Users/mohammedmutaharshaik/Desktop/ImpactofCovid19_OnDigitalLearning/resources'):\n",
    "    for filename in filenames:\n",
    "        print(os.path.join(dirname, filename))"
   ]
  },
  {
   "cell_type": "code",
   "execution_count": 2,
   "metadata": {
    "pycharm": {
     "name": "#%%\n"
    }
   },
   "outputs": [
    {
     "data": {
      "text/html": [
       "<div>\n",
       "<style scoped>\n",
       "    .dataframe tbody tr th:only-of-type {\n",
       "        vertical-align: middle;\n",
       "    }\n",
       "\n",
       "    .dataframe tbody tr th {\n",
       "        vertical-align: top;\n",
       "    }\n",
       "\n",
       "    .dataframe thead th {\n",
       "        text-align: right;\n",
       "    }\n",
       "</style>\n",
       "<table border=\"1\" class=\"dataframe\">\n",
       "  <thead>\n",
       "    <tr style=\"text-align: right;\">\n",
       "      <th></th>\n",
       "      <th>LP ID</th>\n",
       "      <th>URL</th>\n",
       "      <th>Product Name</th>\n",
       "      <th>Provider/Company Name</th>\n",
       "      <th>Sector(s)</th>\n",
       "      <th>Primary Essential Function</th>\n",
       "    </tr>\n",
       "  </thead>\n",
       "  <tbody>\n",
       "    <tr>\n",
       "      <th>0</th>\n",
       "      <td>13117</td>\n",
       "      <td>https://www.splashmath.com</td>\n",
       "      <td>SplashLearn</td>\n",
       "      <td>StudyPad Inc.</td>\n",
       "      <td>PreK-12</td>\n",
       "      <td>LC - Digital Learning Platforms</td>\n",
       "    </tr>\n",
       "    <tr>\n",
       "      <th>1</th>\n",
       "      <td>66933</td>\n",
       "      <td>https://abcmouse.com</td>\n",
       "      <td>ABCmouse.com</td>\n",
       "      <td>Age of Learning, Inc</td>\n",
       "      <td>PreK-12</td>\n",
       "      <td>LC - Digital Learning Platforms</td>\n",
       "    </tr>\n",
       "    <tr>\n",
       "      <th>2</th>\n",
       "      <td>50479</td>\n",
       "      <td>https://www.abcya.com</td>\n",
       "      <td>ABCya!</td>\n",
       "      <td>ABCya.com, LLC</td>\n",
       "      <td>PreK-12</td>\n",
       "      <td>LC - Sites, Resources &amp; Reference - Games &amp; Si...</td>\n",
       "    </tr>\n",
       "    <tr>\n",
       "      <th>3</th>\n",
       "      <td>92993</td>\n",
       "      <td>http://www.aleks.com/</td>\n",
       "      <td>ALEKS</td>\n",
       "      <td>McGraw-Hill PreK-12</td>\n",
       "      <td>PreK-12; Higher Ed</td>\n",
       "      <td>LC - Digital Learning Platforms</td>\n",
       "    </tr>\n",
       "    <tr>\n",
       "      <th>4</th>\n",
       "      <td>73104</td>\n",
       "      <td>https://www.achieve3000.com/</td>\n",
       "      <td>Achieve3000</td>\n",
       "      <td>Achieve3000</td>\n",
       "      <td>PreK-12</td>\n",
       "      <td>LC - Digital Learning Platforms</td>\n",
       "    </tr>\n",
       "  </tbody>\n",
       "</table>\n",
       "</div>"
      ],
      "text/plain": [
       "   LP ID                           URL  Product Name  Provider/Company Name  \\\n",
       "0  13117    https://www.splashmath.com   SplashLearn          StudyPad Inc.   \n",
       "1  66933          https://abcmouse.com  ABCmouse.com  Age of Learning, Inc    \n",
       "2  50479         https://www.abcya.com        ABCya!         ABCya.com, LLC   \n",
       "3  92993         http://www.aleks.com/         ALEKS    McGraw-Hill PreK-12   \n",
       "4  73104  https://www.achieve3000.com/   Achieve3000            Achieve3000   \n",
       "\n",
       "            Sector(s)                         Primary Essential Function  \n",
       "0             PreK-12                    LC - Digital Learning Platforms  \n",
       "1             PreK-12                    LC - Digital Learning Platforms  \n",
       "2             PreK-12  LC - Sites, Resources & Reference - Games & Si...  \n",
       "3  PreK-12; Higher Ed                    LC - Digital Learning Platforms  \n",
       "4             PreK-12                    LC - Digital Learning Platforms  "
      ]
     },
     "execution_count": 2,
     "metadata": {},
     "output_type": "execute_result"
    }
   ],
   "source": [
    "# Load products_info data file\n",
    "# product_info = pd.read_csv(r'ImpactofCovid19_OnDigitalLearning/resources/products_info.csv')\n",
    "product_info = pd.read_csv(r'/Users/mohammedmutaharshaik/Desktop/ImpactofCovid19_OnDigitalLearning/resources/products_info.csv')\n",
    "product_info.head()"
   ]
  },
  {
   "cell_type": "code",
   "execution_count": 3,
   "metadata": {
    "pycharm": {
     "name": "#%%\n"
    }
   },
   "outputs": [
    {
     "name": "stdout",
     "output_type": "stream",
     "text": [
      "The shape of product_info data: (372, 6)\n",
      "---------\n",
      "Data type: \n",
      "LP ID                          int64\n",
      "URL                           object\n",
      "Product Name                  object\n",
      "Provider/Company Name         object\n",
      "Sector(s)                     object\n",
      "Primary Essential Function    object\n",
      "dtype: object\n",
      "---------\n",
      "Null data: \n",
      "LP ID                          0\n",
      "URL                            0\n",
      "Product Name                   0\n",
      "Provider/Company Name          1\n",
      "Sector(s)                     20\n",
      "Primary Essential Function    20\n",
      "dtype: int64\n",
      "---------\n",
      "The number of unique in data: \n",
      "LP ID                         372\n",
      "URL                           372\n",
      "Product Name                  372\n",
      "Provider/Company Name         290\n",
      "Sector(s)                       5\n",
      "Primary Essential Function     35\n",
      "dtype: int64\n"
     ]
    }
   ],
   "source": [
    "print('The shape of product_info data:', product_info.shape) # check the rows and columns of this dataset\n",
    "print('---------')\n",
    "print('Data type: ')\n",
    "print(product_info.dtypes)   # check datatypes to see if there are some wrongly categorized type\n",
    "print('---------')\n",
    "print('Null data: ')\n",
    "print(product_info.isnull().sum())   # check each columns number of null values\n",
    "print('---------')\n",
    "print('The number of unique in data: ')\n",
    "print(product_info.nunique()) # check each columns number of unique values"
   ]
  },
  {
   "cell_type": "code",
   "execution_count": 4,
   "metadata": {
    "pycharm": {
     "name": "#%%\n"
    }
   },
   "outputs": [
    {
     "data": {
      "text/html": [
       "<div>\n",
       "<style scoped>\n",
       "    .dataframe tbody tr th:only-of-type {\n",
       "        vertical-align: middle;\n",
       "    }\n",
       "\n",
       "    .dataframe tbody tr th {\n",
       "        vertical-align: top;\n",
       "    }\n",
       "\n",
       "    .dataframe thead th {\n",
       "        text-align: right;\n",
       "    }\n",
       "</style>\n",
       "<table border=\"1\" class=\"dataframe\">\n",
       "  <thead>\n",
       "    <tr style=\"text-align: right;\">\n",
       "      <th></th>\n",
       "      <th>district_id</th>\n",
       "      <th>state</th>\n",
       "      <th>locale</th>\n",
       "      <th>pct_black/hispanic</th>\n",
       "      <th>pct_free/reduced</th>\n",
       "      <th>county_connections_ratio</th>\n",
       "      <th>pp_total_raw</th>\n",
       "    </tr>\n",
       "  </thead>\n",
       "  <tbody>\n",
       "    <tr>\n",
       "      <th>0</th>\n",
       "      <td>8815</td>\n",
       "      <td>Illinois</td>\n",
       "      <td>Suburb</td>\n",
       "      <td>[0, 0.2[</td>\n",
       "      <td>[0, 0.2[</td>\n",
       "      <td>[0.18, 1[</td>\n",
       "      <td>[14000, 16000[</td>\n",
       "    </tr>\n",
       "    <tr>\n",
       "      <th>1</th>\n",
       "      <td>2685</td>\n",
       "      <td>NaN</td>\n",
       "      <td>NaN</td>\n",
       "      <td>NaN</td>\n",
       "      <td>NaN</td>\n",
       "      <td>NaN</td>\n",
       "      <td>NaN</td>\n",
       "    </tr>\n",
       "    <tr>\n",
       "      <th>2</th>\n",
       "      <td>4921</td>\n",
       "      <td>Utah</td>\n",
       "      <td>Suburb</td>\n",
       "      <td>[0, 0.2[</td>\n",
       "      <td>[0.2, 0.4[</td>\n",
       "      <td>[0.18, 1[</td>\n",
       "      <td>[6000, 8000[</td>\n",
       "    </tr>\n",
       "    <tr>\n",
       "      <th>3</th>\n",
       "      <td>3188</td>\n",
       "      <td>NaN</td>\n",
       "      <td>NaN</td>\n",
       "      <td>NaN</td>\n",
       "      <td>NaN</td>\n",
       "      <td>NaN</td>\n",
       "      <td>NaN</td>\n",
       "    </tr>\n",
       "    <tr>\n",
       "      <th>4</th>\n",
       "      <td>2238</td>\n",
       "      <td>NaN</td>\n",
       "      <td>NaN</td>\n",
       "      <td>NaN</td>\n",
       "      <td>NaN</td>\n",
       "      <td>NaN</td>\n",
       "      <td>NaN</td>\n",
       "    </tr>\n",
       "  </tbody>\n",
       "</table>\n",
       "</div>"
      ],
      "text/plain": [
       "   district_id     state  locale pct_black/hispanic pct_free/reduced  \\\n",
       "0         8815  Illinois  Suburb           [0, 0.2[         [0, 0.2[   \n",
       "1         2685       NaN     NaN                NaN              NaN   \n",
       "2         4921      Utah  Suburb           [0, 0.2[       [0.2, 0.4[   \n",
       "3         3188       NaN     NaN                NaN              NaN   \n",
       "4         2238       NaN     NaN                NaN              NaN   \n",
       "\n",
       "  county_connections_ratio    pp_total_raw  \n",
       "0                [0.18, 1[  [14000, 16000[  \n",
       "1                      NaN             NaN  \n",
       "2                [0.18, 1[    [6000, 8000[  \n",
       "3                      NaN             NaN  \n",
       "4                      NaN             NaN  "
      ]
     },
     "execution_count": 4,
     "metadata": {},
     "output_type": "execute_result"
    }
   ],
   "source": [
    "# Load districts_info data file\n",
    "districts_info = pd.read_csv(r'/Users/mohammedmutaharshaik/Desktop/ImpactofCovid19_OnDigitalLearning/Resources/districts_info.csv')\n",
    "districts_info.head()"
   ]
  },
  {
   "cell_type": "code",
   "execution_count": 5,
   "metadata": {
    "pycharm": {
     "name": "#%%\n"
    }
   },
   "outputs": [
    {
     "name": "stdout",
     "output_type": "stream",
     "text": [
      "The shape of ditricts_info data: (233, 7)\n",
      "---------\n",
      "Data type: \n",
      "district_id                  int64\n",
      "state                       object\n",
      "locale                      object\n",
      "pct_black/hispanic          object\n",
      "pct_free/reduced            object\n",
      "county_connections_ratio    object\n",
      "pp_total_raw                object\n",
      "dtype: object\n",
      "---------\n",
      "Null data: \n",
      "district_id                   0\n",
      "state                        57\n",
      "locale                       57\n",
      "pct_black/hispanic           57\n",
      "pct_free/reduced             85\n",
      "county_connections_ratio     71\n",
      "pp_total_raw                115\n",
      "dtype: int64\n",
      "---------\n",
      "The number of unique in data: \n",
      "district_id                 233\n",
      "state                        23\n",
      "locale                        4\n",
      "pct_black/hispanic            5\n",
      "pct_free/reduced              5\n",
      "county_connections_ratio      2\n",
      "pp_total_raw                 11\n",
      "dtype: int64\n"
     ]
    }
   ],
   "source": [
    "print('The shape of ditricts_info data:', districts_info.shape) # check the rows and columns of this dataset\n",
    "print('---------')\n",
    "print('Data type: ')\n",
    "print(districts_info.dtypes)   # check datatypes to see if there are some wrongly categorized type\n",
    "print('---------')\n",
    "print('Null data: ')\n",
    "print(districts_info.isnull().sum())   # check each columns number of null values\n",
    "print('---------')\n",
    "print('The number of unique in data: ')\n",
    "print(districts_info.nunique()) # check each columns number of unique values"
   ]
  },
  {
   "cell_type": "code",
   "execution_count": 6,
   "metadata": {
    "pycharm": {
     "name": "#%%\n"
    }
   },
   "outputs": [],
   "source": [
    "# I concat each files in engagement file together for convenient handling\n",
    "# path = r\"/Users/mohammedmutaharshaik/Desktop/Impact of Covid19 on Digital Learning/Resources\"\n",
    "# all_files = glob.glob(os.path.join(path, \"*.csv\"))\n",
    "# df_from_each_file = []   # create empty list to store df\n",
    "# for f in all_files:\n",
    "#   df = pd.read_csv(f, sep=',')\n",
    "#   df['district_id'] = f[-8:-4]\n",
    "#   df_from_each_file.append(df)\n",
    "#\n",
    "# df_merged = pd.concat(df_from_each_file, ignore_index=True)  #concat multiple file to one file\n",
    "# # df_merged.convenience # I add this files to input for convinience and saving runtimeeged.csv\")\n",
    "# df_merged.to_csv(r'/Users/mohammedmutaharshaik/Desktop/Impact of Covid19 on Digital Learning/Resources/merged.csv', index = False)"
   ]
  },
  {
   "cell_type": "code",
   "execution_count": 10,
   "metadata": {
    "pycharm": {
     "name": "#%%\n"
    },
    "scrolled": false
   },
   "outputs": [
    {
     "data": {
      "text/html": [
       "<div>\n",
       "<style scoped>\n",
       "    .dataframe tbody tr th:only-of-type {\n",
       "        vertical-align: middle;\n",
       "    }\n",
       "\n",
       "    .dataframe tbody tr th {\n",
       "        vertical-align: top;\n",
       "    }\n",
       "\n",
       "    .dataframe thead th {\n",
       "        text-align: right;\n",
       "    }\n",
       "</style>\n",
       "<table border=\"1\" class=\"dataframe\">\n",
       "  <thead>\n",
       "    <tr style=\"text-align: right;\">\n",
       "      <th></th>\n",
       "    </tr>\n",
       "  </thead>\n",
       "  <tbody>\n",
       "  </tbody>\n",
       "</table>\n",
       "</div>"
      ],
      "text/plain": [
       "Empty DataFrame\n",
       "Columns: []\n",
       "Index: []"
      ]
     },
     "execution_count": 10,
     "metadata": {},
     "output_type": "execute_result"
    }
   ],
   "source": [
    "# engagement_merged=pd.DataFrame()\n",
    "# address = glob.glob('Users/mohammedmutaharshaik/Desktop/Impact of Covid19 on Digital Learning/Resources/engagement_data/*.csv')\n",
    "# # address = glob.glob('../Impact of Covid19 on Digital Learning/Resources/engagement_data/*.csv')\n",
    "# count=0\n",
    "# for i in address:\n",
    "#     with open(i, \"rb\") as data_of_files:\n",
    "#         data=pd.read_csv(data_of_files)\n",
    "#         engagement_merged=pd.concat([engagement_merged,data], axis=0)\n",
    "#         count=count+1\n",
    "#         if count==233:\n",
    "#             break\n",
    "# engagement_merged\n",
    "\n",
    "\n",
    "engagement_merged=pd.DataFrame()\n",
    "# address = glob.glob('../Users/mohammedmutaharshaik/Desktop/ImpactofCovid19_OnDigitalLearning/resources/engagementData/*.csv')\n",
    "\n",
    "address = glob.glob('resources/engagementData/*.csv')\n",
    "\n",
    "# districts_info = pd.read_csv(r'/Users/mohammedmutaharshaik/Desktop/ImpactofCovid19_OnDigitalLearning/Resources/districts_info.csv')\n",
    "\n",
    "# print(address)\n",
    "\n",
    "count=0\n",
    "for i in address:\n",
    "    with open(i, \"rb\") as data_of_files:\n",
    "        data=pd.read_csv(data_of_files)\n",
    "        engagement_merged=pd.concat([engagement_merged,data], axis=0)\n",
    "        count=count+1\n",
    "        if count==233:\n",
    "            break\n",
    "engagement_merged"
   ]
  },
  {
   "cell_type": "code",
   "execution_count": 8,
   "metadata": {
    "pycharm": {
     "name": "#%%\n"
    }
   },
   "outputs": [
    {
     "ename": "KeyError",
     "evalue": "\"['Unnamed: 0'] not found in axis\"",
     "output_type": "error",
     "traceback": [
      "\u001b[0;31m---------------------------------------------------------------------------\u001b[0m",
      "\u001b[0;31mKeyError\u001b[0m                                  Traceback (most recent call last)",
      "Input \u001b[0;32mIn [8]\u001b[0m, in \u001b[0;36m<cell line: 3>\u001b[0;34m()\u001b[0m\n\u001b[1;32m      1\u001b[0m \u001b[38;5;66;03m# Load file merged engagement\u001b[39;00m\n\u001b[1;32m      2\u001b[0m \u001b[38;5;66;03m# engagement_merged = pd.read_csv('Impact of Covid19 on Digital Learning/resources/engagement_data.csv')\u001b[39;00m\n\u001b[0;32m----> 3\u001b[0m \u001b[43mengagement_merged\u001b[49m\u001b[38;5;241;43m.\u001b[39;49m\u001b[43mdrop\u001b[49m\u001b[43m(\u001b[49m\u001b[43mcolumns\u001b[49m\u001b[38;5;241;43m=\u001b[39;49m\u001b[43m[\u001b[49m\u001b[38;5;124;43m'\u001b[39;49m\u001b[38;5;124;43mUnnamed: 0\u001b[39;49m\u001b[38;5;124;43m'\u001b[39;49m\u001b[43m]\u001b[49m\u001b[43m,\u001b[49m\u001b[43m \u001b[49m\u001b[43minplace\u001b[49m\u001b[38;5;241;43m=\u001b[39;49m\u001b[38;5;28;43;01mTrue\u001b[39;49;00m\u001b[43m)\u001b[49m\n\u001b[1;32m      4\u001b[0m engagement_merged\u001b[38;5;241m.\u001b[39mhead()\n",
      "File \u001b[0;32m~/opt/anaconda3/lib/python3.9/site-packages/pandas/util/_decorators.py:311\u001b[0m, in \u001b[0;36mdeprecate_nonkeyword_arguments.<locals>.decorate.<locals>.wrapper\u001b[0;34m(*args, **kwargs)\u001b[0m\n\u001b[1;32m    305\u001b[0m \u001b[38;5;28;01mif\u001b[39;00m \u001b[38;5;28mlen\u001b[39m(args) \u001b[38;5;241m>\u001b[39m num_allow_args:\n\u001b[1;32m    306\u001b[0m     warnings\u001b[38;5;241m.\u001b[39mwarn(\n\u001b[1;32m    307\u001b[0m         msg\u001b[38;5;241m.\u001b[39mformat(arguments\u001b[38;5;241m=\u001b[39marguments),\n\u001b[1;32m    308\u001b[0m         \u001b[38;5;167;01mFutureWarning\u001b[39;00m,\n\u001b[1;32m    309\u001b[0m         stacklevel\u001b[38;5;241m=\u001b[39mstacklevel,\n\u001b[1;32m    310\u001b[0m     )\n\u001b[0;32m--> 311\u001b[0m \u001b[38;5;28;01mreturn\u001b[39;00m \u001b[43mfunc\u001b[49m\u001b[43m(\u001b[49m\u001b[38;5;241;43m*\u001b[39;49m\u001b[43margs\u001b[49m\u001b[43m,\u001b[49m\u001b[43m \u001b[49m\u001b[38;5;241;43m*\u001b[39;49m\u001b[38;5;241;43m*\u001b[39;49m\u001b[43mkwargs\u001b[49m\u001b[43m)\u001b[49m\n",
      "File \u001b[0;32m~/opt/anaconda3/lib/python3.9/site-packages/pandas/core/frame.py:4948\u001b[0m, in \u001b[0;36mDataFrame.drop\u001b[0;34m(self, labels, axis, index, columns, level, inplace, errors)\u001b[0m\n\u001b[1;32m   4800\u001b[0m \u001b[38;5;129m@deprecate_nonkeyword_arguments\u001b[39m(version\u001b[38;5;241m=\u001b[39m\u001b[38;5;28;01mNone\u001b[39;00m, allowed_args\u001b[38;5;241m=\u001b[39m[\u001b[38;5;124m\"\u001b[39m\u001b[38;5;124mself\u001b[39m\u001b[38;5;124m\"\u001b[39m, \u001b[38;5;124m\"\u001b[39m\u001b[38;5;124mlabels\u001b[39m\u001b[38;5;124m\"\u001b[39m])\n\u001b[1;32m   4801\u001b[0m \u001b[38;5;28;01mdef\u001b[39;00m \u001b[38;5;21mdrop\u001b[39m(\n\u001b[1;32m   4802\u001b[0m     \u001b[38;5;28mself\u001b[39m,\n\u001b[0;32m   (...)\u001b[0m\n\u001b[1;32m   4809\u001b[0m     errors: \u001b[38;5;28mstr\u001b[39m \u001b[38;5;241m=\u001b[39m \u001b[38;5;124m\"\u001b[39m\u001b[38;5;124mraise\u001b[39m\u001b[38;5;124m\"\u001b[39m,\n\u001b[1;32m   4810\u001b[0m ):\n\u001b[1;32m   4811\u001b[0m     \u001b[38;5;124;03m\"\"\"\u001b[39;00m\n\u001b[1;32m   4812\u001b[0m \u001b[38;5;124;03m    Drop specified labels from rows or columns.\u001b[39;00m\n\u001b[1;32m   4813\u001b[0m \n\u001b[0;32m   (...)\u001b[0m\n\u001b[1;32m   4946\u001b[0m \u001b[38;5;124;03m            weight  1.0     0.8\u001b[39;00m\n\u001b[1;32m   4947\u001b[0m \u001b[38;5;124;03m    \"\"\"\u001b[39;00m\n\u001b[0;32m-> 4948\u001b[0m     \u001b[38;5;28;01mreturn\u001b[39;00m \u001b[38;5;28;43msuper\u001b[39;49m\u001b[43m(\u001b[49m\u001b[43m)\u001b[49m\u001b[38;5;241;43m.\u001b[39;49m\u001b[43mdrop\u001b[49m\u001b[43m(\u001b[49m\n\u001b[1;32m   4949\u001b[0m \u001b[43m        \u001b[49m\u001b[43mlabels\u001b[49m\u001b[38;5;241;43m=\u001b[39;49m\u001b[43mlabels\u001b[49m\u001b[43m,\u001b[49m\n\u001b[1;32m   4950\u001b[0m \u001b[43m        \u001b[49m\u001b[43maxis\u001b[49m\u001b[38;5;241;43m=\u001b[39;49m\u001b[43maxis\u001b[49m\u001b[43m,\u001b[49m\n\u001b[1;32m   4951\u001b[0m \u001b[43m        \u001b[49m\u001b[43mindex\u001b[49m\u001b[38;5;241;43m=\u001b[39;49m\u001b[43mindex\u001b[49m\u001b[43m,\u001b[49m\n\u001b[1;32m   4952\u001b[0m \u001b[43m        \u001b[49m\u001b[43mcolumns\u001b[49m\u001b[38;5;241;43m=\u001b[39;49m\u001b[43mcolumns\u001b[49m\u001b[43m,\u001b[49m\n\u001b[1;32m   4953\u001b[0m \u001b[43m        \u001b[49m\u001b[43mlevel\u001b[49m\u001b[38;5;241;43m=\u001b[39;49m\u001b[43mlevel\u001b[49m\u001b[43m,\u001b[49m\n\u001b[1;32m   4954\u001b[0m \u001b[43m        \u001b[49m\u001b[43minplace\u001b[49m\u001b[38;5;241;43m=\u001b[39;49m\u001b[43minplace\u001b[49m\u001b[43m,\u001b[49m\n\u001b[1;32m   4955\u001b[0m \u001b[43m        \u001b[49m\u001b[43merrors\u001b[49m\u001b[38;5;241;43m=\u001b[39;49m\u001b[43merrors\u001b[49m\u001b[43m,\u001b[49m\n\u001b[1;32m   4956\u001b[0m \u001b[43m    \u001b[49m\u001b[43m)\u001b[49m\n",
      "File \u001b[0;32m~/opt/anaconda3/lib/python3.9/site-packages/pandas/core/generic.py:4279\u001b[0m, in \u001b[0;36mNDFrame.drop\u001b[0;34m(self, labels, axis, index, columns, level, inplace, errors)\u001b[0m\n\u001b[1;32m   4277\u001b[0m \u001b[38;5;28;01mfor\u001b[39;00m axis, labels \u001b[38;5;129;01min\u001b[39;00m axes\u001b[38;5;241m.\u001b[39mitems():\n\u001b[1;32m   4278\u001b[0m     \u001b[38;5;28;01mif\u001b[39;00m labels \u001b[38;5;129;01mis\u001b[39;00m \u001b[38;5;129;01mnot\u001b[39;00m \u001b[38;5;28;01mNone\u001b[39;00m:\n\u001b[0;32m-> 4279\u001b[0m         obj \u001b[38;5;241m=\u001b[39m \u001b[43mobj\u001b[49m\u001b[38;5;241;43m.\u001b[39;49m\u001b[43m_drop_axis\u001b[49m\u001b[43m(\u001b[49m\u001b[43mlabels\u001b[49m\u001b[43m,\u001b[49m\u001b[43m \u001b[49m\u001b[43maxis\u001b[49m\u001b[43m,\u001b[49m\u001b[43m \u001b[49m\u001b[43mlevel\u001b[49m\u001b[38;5;241;43m=\u001b[39;49m\u001b[43mlevel\u001b[49m\u001b[43m,\u001b[49m\u001b[43m \u001b[49m\u001b[43merrors\u001b[49m\u001b[38;5;241;43m=\u001b[39;49m\u001b[43merrors\u001b[49m\u001b[43m)\u001b[49m\n\u001b[1;32m   4281\u001b[0m \u001b[38;5;28;01mif\u001b[39;00m inplace:\n\u001b[1;32m   4282\u001b[0m     \u001b[38;5;28mself\u001b[39m\u001b[38;5;241m.\u001b[39m_update_inplace(obj)\n",
      "File \u001b[0;32m~/opt/anaconda3/lib/python3.9/site-packages/pandas/core/generic.py:4323\u001b[0m, in \u001b[0;36mNDFrame._drop_axis\u001b[0;34m(self, labels, axis, level, errors, consolidate, only_slice)\u001b[0m\n\u001b[1;32m   4321\u001b[0m         new_axis \u001b[38;5;241m=\u001b[39m axis\u001b[38;5;241m.\u001b[39mdrop(labels, level\u001b[38;5;241m=\u001b[39mlevel, errors\u001b[38;5;241m=\u001b[39merrors)\n\u001b[1;32m   4322\u001b[0m     \u001b[38;5;28;01melse\u001b[39;00m:\n\u001b[0;32m-> 4323\u001b[0m         new_axis \u001b[38;5;241m=\u001b[39m \u001b[43maxis\u001b[49m\u001b[38;5;241;43m.\u001b[39;49m\u001b[43mdrop\u001b[49m\u001b[43m(\u001b[49m\u001b[43mlabels\u001b[49m\u001b[43m,\u001b[49m\u001b[43m \u001b[49m\u001b[43merrors\u001b[49m\u001b[38;5;241;43m=\u001b[39;49m\u001b[43merrors\u001b[49m\u001b[43m)\u001b[49m\n\u001b[1;32m   4324\u001b[0m     indexer \u001b[38;5;241m=\u001b[39m axis\u001b[38;5;241m.\u001b[39mget_indexer(new_axis)\n\u001b[1;32m   4326\u001b[0m \u001b[38;5;66;03m# Case for non-unique axis\u001b[39;00m\n\u001b[1;32m   4327\u001b[0m \u001b[38;5;28;01melse\u001b[39;00m:\n",
      "File \u001b[0;32m~/opt/anaconda3/lib/python3.9/site-packages/pandas/core/indexes/base.py:6644\u001b[0m, in \u001b[0;36mIndex.drop\u001b[0;34m(self, labels, errors)\u001b[0m\n\u001b[1;32m   6642\u001b[0m \u001b[38;5;28;01mif\u001b[39;00m mask\u001b[38;5;241m.\u001b[39many():\n\u001b[1;32m   6643\u001b[0m     \u001b[38;5;28;01mif\u001b[39;00m errors \u001b[38;5;241m!=\u001b[39m \u001b[38;5;124m\"\u001b[39m\u001b[38;5;124mignore\u001b[39m\u001b[38;5;124m\"\u001b[39m:\n\u001b[0;32m-> 6644\u001b[0m         \u001b[38;5;28;01mraise\u001b[39;00m \u001b[38;5;167;01mKeyError\u001b[39;00m(\u001b[38;5;124mf\u001b[39m\u001b[38;5;124m\"\u001b[39m\u001b[38;5;132;01m{\u001b[39;00m\u001b[38;5;28mlist\u001b[39m(labels[mask])\u001b[38;5;132;01m}\u001b[39;00m\u001b[38;5;124m not found in axis\u001b[39m\u001b[38;5;124m\"\u001b[39m)\n\u001b[1;32m   6645\u001b[0m     indexer \u001b[38;5;241m=\u001b[39m indexer[\u001b[38;5;241m~\u001b[39mmask]\n\u001b[1;32m   6646\u001b[0m \u001b[38;5;28;01mreturn\u001b[39;00m \u001b[38;5;28mself\u001b[39m\u001b[38;5;241m.\u001b[39mdelete(indexer)\n",
      "\u001b[0;31mKeyError\u001b[0m: \"['Unnamed: 0'] not found in axis\""
     ]
    }
   ],
   "source": [
    "# Load file merged engagement\n",
    "# engagement_merged = pd.read_csv('Impact of Covid19 on Digital Learning/resources/engagement_data.csv')\n",
    "engagement_merged.drop(columns=['Unnamed: 0'], inplace=True)\n",
    "engagement_merged.head()"
   ]
  },
  {
   "cell_type": "code",
   "execution_count": null,
   "metadata": {
    "pycharm": {
     "name": "#%%\n"
    }
   },
   "outputs": [],
   "source": [
    "print('The shape of engagement_merged data:', engagement_merged.shape) # check the rows and columns of this dataset\n",
    "print('---------')\n",
    "print('Data type: ')\n",
    "print(engagement_merged.dtypes)   # check datatypes to see if there are some wrongly categorized type\n",
    "print('---------')\n",
    "print('Null data: ')\n",
    "print(engagement_merged.isnull().sum())   # check each columns number of null values\n",
    "print('---------')\n",
    "print('The number of unique in data: ')\n",
    "print(engagement_merged.nunique()) # check each columns number of unique values\n"
   ]
  },
  {
   "cell_type": "code",
   "execution_count": null,
   "metadata": {
    "pycharm": {
     "name": "#%%\n"
    }
   },
   "outputs": [],
   "source": [
    "product_info[product_info['Provider/Company Name'].isnull()]\n",
    "product_info[product_info['Sector(s)'].isnull()]\n",
    "# We see that NaN in this case maybe useful for analyze because their products name are quite popular and their sector used not clearly to label so I will keep it and instead label NaN, I replace columns (Sector, Primary Essential Function) contain NaN by 'flexible' respectively\n",
    "# Additionally, URL columns may not useful so I will remove it for convinience"
   ]
  },
  {
   "cell_type": "code",
   "execution_count": null,
   "metadata": {
    "pycharm": {
     "name": "#%%\n"
    }
   },
   "outputs": [],
   "source": [
    "product_info.fillna({'Sector(s)':'flexible','Primary Essential Function':'flexible','Provider/Company Name':'unknown'},inplace=True) #fill na values\n",
    "product_info.drop(columns=['URL'],inplace=True) # drop uneccesary column\n",
    "product_info.rename(columns={'LP ID':'lp_id','Product Name':'product_name'\n",
    "    ,'Provider/Company Name':'provider/company_name'\n",
    "    ,'Sector(s)':'sector','Primary Essential Function':'primary_essential_function'}, inplace=True) # rename column for conviniently handling\n",
    "product_info.isnull().sum().any()  #check null again"
   ]
  },
  {
   "cell_type": "code",
   "execution_count": null,
   "metadata": {
    "pycharm": {
     "name": "#%%\n"
    }
   },
   "outputs": [],
   "source": [
    "# engagement_merged = engagement_merged[engagement_merged['pct_access'].notna()] # drop nan in pct_access column\n",
    "engagement_merged = engagement_merged[engagement_merged['LP ID'].notna()] # drop nan in lp_id column\n",
    "(engagement_merged[engagement_merged['engagement_index'].isnull()]['pct_access'] != 0).sum() # we see that along with 0.0 in pct_access is NaN so i will fill it by 0\n",
    "engagement_merged.fillna(0,inplace=True)"
   ]
  },
  {
   "cell_type": "markdown",
   "metadata": {},
   "source": []
  },
  {
   "cell_type": "code",
   "execution_count": null,
   "metadata": {
    "pycharm": {
     "name": "#%%\n"
    }
   },
   "outputs": [],
   "source": [
    "%%HTML\n",
    "<iframe width=\"750\" height=\"520\" frameborder=\"0\" src=\"https://usafacts.org/articles/65-of-childrens-education-has-moved-online-during-covid-19/embed/0/?\"></iframe>\n",
    "<iframe width=\"750\" height=\"520\" frameborder=\"0\" src=\"https://usafacts.org/embed/chart/?autosize=false&axisTextColor=%23616161&chartType=1&margins=%7B%22top%22%3A0%7D&metrics=%5B%7B%22id%22%3A%22sotu2151%22%2C%22allStates%22%3Atrue%7D%5D&selectableYears=false&sortRows=false&source=SOTU&title=Percentage%20of%20households%20with%20children%20reporting%20use%20of%20online%20distance%20learning%3A\"></iframe>"
   ]
  },
  {
   "cell_type": "code",
   "execution_count": null,
   "metadata": {
    "pycharm": {
     "name": "#%%\n"
    }
   },
   "outputs": [],
   "source": [
    "%%HTML\n",
    "<div style=\"text-align:center\"><img src=\"https://edsurge.imgix.net/uploads/photo/image/8548/2020-1610502497.jpg\" width=\"600\" height=\"500\" /></div>"
   ]
  },
  {
   "cell_type": "code",
   "execution_count": null,
   "metadata": {
    "pycharm": {
     "name": "#%%\n"
    }
   },
   "outputs": [],
   "source": [
    "# plot the popular sector of eduction where product is used\n",
    "plt.figure(figsize = (15,8))\n",
    "ax = sns.countplot(data = product_info,  y = 'sector', color='grey')\n",
    "ax.set_ylabel('Sector(s)')\n",
    "ax.set_xlabel('Frequencies')\n",
    "ax.set_title('The Popular Sector Of Education Where Product Is Used')\n",
    "#set orange color for the highest bar\n",
    "patch_h = []\n",
    "for patch in ax.patches:\n",
    "    reading = patch.get_height()\n",
    "    patch_h.append(reading)\n",
    "# patch_h contains the heights of all the patches now\n",
    "idx_tallest = np.argmax(patch_h)\n",
    "# np.argmax return the index of largest value of the list\n",
    "ax.patches[idx_tallest].set_facecolor('orange')"
   ]
  },
  {
   "cell_type": "code",
   "execution_count": null,
   "metadata": {
    "pycharm": {
     "name": "#%%\n"
    }
   },
   "outputs": [],
   "source": [
    "# plot top provider/company which have the most a variety of products\n",
    "plt.figure(figsize=(12,8))\n",
    "ax = sns.barplot(data =product_info['provider/company_name'].value_counts().sort_values(ascending=False).to_frame().reset_index().head(15), x='provider/company_name', y = 'index')\n",
    "ax.set_xlabel('The Number Of Most Product')\n",
    "ax.set_ylabel('Provider/Company')\n",
    "ax.set_title('Top Provider/Company Have A Variety Of Products')"
   ]
  },
  {
   "cell_type": "code",
   "execution_count": null,
   "metadata": {
    "pycharm": {
     "name": "#%%\n"
    }
   },
   "outputs": [],
   "source": [
    "# plot common primary essential function of product\n",
    "plt.figure(figsize=(15,8))\n",
    "ax = sns.countplot(data=product_info, y = 'primary_essential_function')\n",
    "ax.set_title('Common Primary Essential Function Of Product')\n",
    "ax.set_xlabel('Frequencies')\n",
    "ax.set_ylabel('Primary Essential Function')"
   ]
  },
  {
   "cell_type": "code",
   "execution_count": null,
   "metadata": {
    "pycharm": {
     "name": "#%%\n"
    }
   },
   "outputs": [],
   "source": [
    "plt.figure(figsize=(12,8))\n",
    "for x in list(product_info['sector'].unique()[0:3]):\n",
    "    ax = sns.countplot(data = product_info[product_info['sector'] == str(x)], y='primary_essential_function')\n",
    "    ax.set_title(str(x))\n",
    "    ax.set_xlabel('Frequencies')\n",
    "    ax.set_ylabel('Primary Essential Function')\n",
    "    plt.show()"
   ]
  },
  {
   "cell_type": "code",
   "execution_count": null,
   "metadata": {
    "pycharm": {
     "name": "#%%\n"
    }
   },
   "outputs": [],
   "source": [
    "#save row with nan values to private data frame which may be used later\n",
    "district_info_anonymous = districts_info[districts_info['state'].isna() | districts_info['locale'].isna() | districts_info['pct_black/hispanic'].isna()\n",
    "                                         |districts_info['pct_free/reduced'].isna() | districts_info['county_connections_ratio'].isna() | districts_info['pp_total_raw'].isna()]\n",
    "# save complete data frame\n",
    "districts_info_complete = districts_info.dropna()"
   ]
  },
  {
   "cell_type": "code",
   "execution_count": null,
   "metadata": {
    "pycharm": {
     "name": "#%%\n"
    }
   },
   "outputs": [],
   "source": [
    "df_copy = engagement_merged.copy()\n",
    "product_merge_available = pd.merge(df_copy, product_info[['LP ID', 'product_name']], on = 'LP ID')\n",
    "# function return number of top product based on method such as mean or median of pct_access or engagement_index and plot in word cloud to show popular product\n",
    "def top_product_available(interest, method_wanted, amount):\n",
    "    top_product = product_merge_available.groupby(['product_name'])[str(interest)].agg(method_wanted).sort_values(ascending=False).head(amount).reset_index()\n",
    "\n",
    "    primary_func = []\n",
    "    for name in list(top_product['product_name'].values):\n",
    "        d = product_info[product_info['product_name']==name]['primary_essential_function'].values[0]\n",
    "        d = d.split('- ',1)[-1]\n",
    "        primary_func.append(d)\n",
    "\n",
    "    from wordcloud import WordCloud\n",
    "    fig = plt.figure(figsize=(15,10))\n",
    "    fig.add_subplot(121)\n",
    "    wordcloud = WordCloud (\n",
    "        background_color = 'black',\n",
    "        width = 812,\n",
    "        height = 684\n",
    "    ).generate(' '.join(list(top_product['product_name'].values)))\n",
    "    plt.imshow(wordcloud) # image show\n",
    "    plt.axis('off') # to off the axis of x and y\n",
    "\n",
    "    fig.add_subplot(122)\n",
    "    wordcloud = WordCloud (\n",
    "        background_color = 'black',\n",
    "        width = 812,\n",
    "        height = 684\n",
    "    ).generate(' '.join(primary_func))\n",
    "    plt.imshow(wordcloud) # image show\n",
    "    plt.axis('off') # to off the axis of x and y\n",
    "    return list(top_product['product_name'].values), plt.show()"
   ]
  },
  {
   "cell_type": "code",
   "execution_count": null,
   "metadata": {
    "pycharm": {
     "name": "#%%\n"
    }
   },
   "outputs": [],
   "source": [
    "list_product = top_product_available('pct_access', np.mean, 10) # plot popular product and assign list top 10 products used by mostly student"
   ]
  },
  {
   "cell_type": "code",
   "execution_count": null,
   "metadata": {
    "pycharm": {
     "name": "#%%\n"
    }
   },
   "outputs": [],
   "source": [
    "# function plot pct_access or engagement_index over time in engagement_merged dataframe (any products include products don't exist in product_info dataframe)\n",
    "def access_overtime_any_product(interest, method_wanted):  # interest is pct_access or engagement_index & method is np.mean or np.median\n",
    "    #Using plotly.express\n",
    "    import plotly.express as px\n",
    "    overtime = pd.DataFrame(engagement_merged.groupby(['time'])[str(interest)].agg(method_wanted)).reset_index()\n",
    "    fig = px.line(overtime, x='time', y=str(interest), title=str(interest)+' Any Products Including Products Not Recorded In The US Over Time')\n",
    "    return fig.show()\n",
    "# function plot pct_access or engagement_index over time in product_merged_available dataframe (include products exist or recorded in product_info dataframe)\n",
    "def access_overtime_available_product(interest, list_product_considered, method_wanted):  # interest is pct_access or engagement_index & method is np.mean or np.median\n",
    "    temp = product_merge_available[product_merge_available['product_name'].isin(list_product_considered)]\n",
    "    #Using plotly.express\n",
    "    import plotly.express as px\n",
    "    overtime = pd.DataFrame(temp.groupby(['time'])[str(interest)].agg(method_wanted)).reset_index()\n",
    "    fig = px.line(overtime, x='time', y=str(interest), title=str(interest)+' Of '+str(len(list_product_considered))+' Chosen Products In The US Over Time')\n",
    "    return fig.show()"
   ]
  },
  {
   "cell_type": "code",
   "execution_count": null,
   "metadata": {
    "pycharm": {
     "name": "#%%\n"
    }
   },
   "outputs": [],
   "source": [
    "# plot distribution pct acces and engagement_index to any products icluding products not recorded in product_infor dataframe\n",
    "access_overtime_any_product('pct_access', np.mean)\n",
    "access_overtime_any_product('engagement_index', np.mean)\n",
    "# plot distribution pct acces and engagement_index to top 10 products most popular\n",
    "access_overtime_available_product('pct_access', list_product[0], np.mean)\n",
    "access_overtime_available_product('engagement_index', list_product[0], np.mean)"
   ]
  },
  {
   "cell_type": "code",
   "execution_count": null,
   "metadata": {
    "pycharm": {
     "name": "#%%\n"
    }
   },
   "outputs": [],
   "source": [
    "%%HTML\n",
    "<div class='tableauPlaceholder' id='viz1629188702726' style='position: relative'><noscript><a href='https:&#47;&#47;covidtracking.com&#47;'><img alt='0_All Key Metrics ' src='https:&#47;&#47;public.tableau.com&#47;static&#47;images&#47;CT&#47;CTPWebsiteGallery&#47;0_AllKeyMetrics&#47;1_rss.png' style='border: none' /></a></noscript><object class='tableauViz'  style='display:none;'><param name='host_url' value='https%3A%2F%2Fpublic.tableau.com%2F' /> <param name='embed_code_version' value='3' /> <param name='site_root' value='' /><param name='name' value='CTPWebsiteGallery&#47;0_AllKeyMetrics' /><param name='tabs' value='no' /><param name='toolbar' value='yes' /><param name='static_image' value='https:&#47;&#47;public.tableau.com&#47;static&#47;images&#47;CT&#47;CTPWebsiteGallery&#47;0_AllKeyMetrics&#47;1.png' /> <param name='animate_transition' value='yes' /><param name='display_static_image' value='yes' /><param name='display_spinner' value='yes' /><param name='display_overlay' value='yes' /><param name='display_count' value='yes' /><param name='language' value='en' /><param name='filter' value='publish=yes' /><param name='origin' value='viz_share_link' /></object></div>                <script type='text/javascript'>                    var divElement = document.getElementById('viz1629188702726');                    var vizElement = divElement.getElementsByTagName('object')[0];                    vizElement.style.width='1000px';vizElement.style.height='627px';                    var scriptElement = document.createElement('script');                    scriptElement.src = 'https://public.tableau.com/javascripts/api/viz_v1.js';                    vizElement.parentNode.insertBefore(scriptElement, vizElement);                </script>"
   ]
  },
  {
   "cell_type": "code",
   "execution_count": null,
   "metadata": {
    "pycharm": {
     "name": "#%%\n"
    }
   },
   "outputs": [],
   "source": [
    "engagement_merged['page_load_per_student'] = engagement_merged['engagement_index'] / 1000 # add columns page load per student\n",
    "result = pd.merge(engagement_merged, districts_info[['district_id','state','locale','pct_black/hispanic','pct_free/reduced','county_connections_ratio','pp_total_raw']]\n",
    "                  , on=\"district_id\")"
   ]
  },
  {
   "cell_type": "code",
   "execution_count": null,
   "metadata": {
    "pycharm": {
     "name": "#%%\n"
    }
   },
   "outputs": [],
   "source": [
    "# function display table summarize pct_acces or engagement_index per state or locale\n",
    "def display_table_summarize(interest, state_or_locale):\n",
    "    summarize = result.groupby(str(state_or_locale))[str(interest)].describe()\n",
    "    # assign cmap\n",
    "    cm = sns.light_palette(\"green\", as_cmap=True)\n",
    "    # display summarize pct_acces per state\n",
    "    if (str(interest) == 'pct_access') & (str(state_or_locale) == 'state'):\n",
    "        sm = summarize.style.set_table_attributes(\"style='display:inline'\").set_caption('Summarize Pct_Access Per State').background_gradient(cmap=cm)\n",
    "    # display summarize engagement_index per state\n",
    "    elif (str(interest) == 'engagement_index') & (str(state_or_locale) == 'state'):\n",
    "        sm = summarize.style.set_table_attributes(\"style='display:inline'\").set_caption('Summarize Engagement_Index Per State').background_gradient(cmap=cm)\n",
    "    # display summarize pct_acces per state\n",
    "    elif (str(interest) == 'pct_access') & (str(state_or_locale) == 'locale'):\n",
    "        sm = summarize.style.set_table_attributes(\"style='display:inline'\").set_caption('Summarize Pct_Access Per Locale').background_gradient(cmap=cm)\n",
    "    # display summarize engagement_index per state\n",
    "    elif (str(interest) == 'engagement_index') & (str(state_or_locale) == 'locale'):\n",
    "        sm = summarize.style.set_table_attributes(\"style='display:inline'\").set_caption('Summarize Engagement_Index Per Locale').background_gradient(cmap=cm)\n",
    "    else:\n",
    "        return 'Interest variable is not available!! Please retype one of the following: pct_access or engagement_index & state or locale'\n",
    "    return display(sm)"
   ]
  },
  {
   "cell_type": "code",
   "execution_count": null,
   "metadata": {
    "pycharm": {
     "name": "#%%\n"
    }
   },
   "outputs": [],
   "source": [
    "display_table_summarize('pct_access', 'state')\n",
    "display_table_summarize('engagement_index', 'state')"
   ]
  },
  {
   "cell_type": "code",
   "execution_count": null,
   "metadata": {
    "pycharm": {
     "name": "#%%\n"
    }
   },
   "outputs": [],
   "source": [
    "# function kruskal test\n",
    "def kruskal_test(access_or_engagement):\n",
    "    #  each state with their pct_access\n",
    "    kruskal_dict = {}\n",
    "    state_list = list(result['state'].unique())\n",
    "    for state in state_list:\n",
    "        kruskal_dict[state] = result[result['state']==state][str(access_or_engagement)]\n",
    "    # kruskal test\n",
    "    from scipy import stats\n",
    "    F, p = stats.kruskal(kruskal_dict['Connecticut'],kruskal_dict['Missouri'],kruskal_dict['Illinois'],\n",
    "                         kruskal_dict['Utah'],kruskal_dict['Indiana'],kruskal_dict['New York'],kruskal_dict['Virginia'],kruskal_dict['California'],\n",
    "                         kruskal_dict['Washington'],kruskal_dict['New Hampshire'],kruskal_dict['Massachusetts'],kruskal_dict['Ohio'],kruskal_dict['North Dakota'],\n",
    "                         kruskal_dict['Minnesota'],kruskal_dict['North Carolina'],kruskal_dict['Michigan'],kruskal_dict['Texas'],kruskal_dict['District Of Columbia'],\n",
    "                         kruskal_dict['Wisconsin'],kruskal_dict['Tennessee'],kruskal_dict['Florida'],kruskal_dict['New Jersey'],kruskal_dict['Arizona'])\n",
    "    return print(\"Test of {0}, p-value: {1}\".format(access_or_engagement,p))\n",
    "    # for convinience to input to Kruska test i code below and copy it instead type by hand\n",
    "    # for state in state_list:\n",
    "    #     print(\"kruskal_dict['%s'],\" % state)"
   ]
  },
  {
   "cell_type": "code",
   "execution_count": null,
   "metadata": {
    "pycharm": {
     "name": "#%%\n"
    }
   },
   "outputs": [],
   "source": [
    "kruskal_test('pct_access')\n",
    "kruskal_test('engagement_index')"
   ]
  },
  {
   "cell_type": "code",
   "execution_count": null,
   "metadata": {
    "pycharm": {
     "name": "#%%\n"
    }
   },
   "outputs": [],
   "source": [
    "display_table_summarize('pct_access', 'locale')\n",
    "display_table_summarize('engagement_index', 'locale')"
   ]
  },
  {
   "cell_type": "code",
   "execution_count": null,
   "metadata": {
    "pycharm": {
     "name": "#%%\n"
    }
   },
   "outputs": [],
   "source": [
    "# plot distribution the number of school district by locale\n",
    "district_amount = {}\n",
    "for locale in [\"City\", \"Rural\", \"Suburb\", \"Town\"]:\n",
    "    district_amount[locale] = result[result['locale'] == locale][\"district_id\"].nunique()\n",
    "dis_amount_df = pd.DataFrame.from_dict(district_amount, orient='index', columns=['Count']).reset_index().rename(columns = {'index':'locale'})\n",
    "plt.figure(figsize=(10,6))\n",
    "ax = sns.barplot(data=dis_amount_df, x = 'locale', y='Count')\n",
    "ax.set_title(\"Distribution of school districts by locale\")"
   ]
  },
  {
   "cell_type": "code",
   "execution_count": null,
   "metadata": {
    "pycharm": {
     "name": "#%%\n"
    }
   },
   "outputs": [],
   "source": [
    "# sort descending product_id with highest pct_access to lowest\n",
    "max_user_access = result.groupby(['lp_id'])['pct_access'].agg(np.max).sort_values(ascending = False).to_frame().reset_index()\n",
    "# we merge column lp_id, pct_access, product_name together to make a new dataframe\n",
    "product_access = pd.merge(engagement_merged[['time','lp_id', 'pct_access','engagement_index']],product_info[['lp_id', 'product_name']], on = 'lp_id')\n",
    "product_access = product_access.sort_values(['time'])\n",
    "product_access = product_access.reset_index().drop(columns = ['index','lp_id'])"
   ]
  },
  {
   "cell_type": "code",
   "execution_count": null,
   "metadata": {
    "pycharm": {
     "name": "#%%\n"
    }
   },
   "outputs": [],
   "source": []
  },
  {
   "cell_type": "code",
   "execution_count": null,
   "metadata": {
    "pycharm": {
     "name": "#%%\n"
    }
   },
   "outputs": [],
   "source": [
    "# function return product name with given product ID\n",
    "def id_product_name(list_product_considered):\n",
    "    most_access = list(list_product_considered)\n",
    "    name = {}\n",
    "    for x in most_access:\n",
    "        if (product_info['product_name']==x).any().sum():\n",
    "            n = product_info[product_info['product_name']==x]['lp_id'].values[0]\n",
    "            name[n] = x\n",
    "        else:\n",
    "            return 'Not found'\n",
    "    return name\n",
    "\n",
    "# function plot pct_access, engagement_index or page_load_per_student over time given a product in given a district\n",
    "def plot_interest_by_product(interest, id_product, district_id):\n",
    "    fig = px.line(result[(result['lp_id']==id_product) & (result['district_id']==district_id)], x='time', y=str(interest),\n",
    "                  title='Pecentages Of Student In District Have At Least 1 Page Load Of '+ str(id_product))\n",
    "    return fig.show()\n",
    "\n",
    "# function plot distribution of pct_free/reduced or pp_total_raw in each given pct_black/hispanic\n",
    "def plot_distribution_based_black_hispanic(interest, hue = 'pct_black/hispanic'):\n",
    "    plt.figure(figsize=(12,9))\n",
    "    ax = sns.countplot(data=result.sort_values([str(interest)]), x = str(interest), hue='pct_black/hispanic')\n",
    "    if str(interest) == 'pct_free/reduced':\n",
    "        ax.set_xlabel('Percentage Of Students Eligible For Free Or Reduced Price Lunch')\n",
    "        ax.set_ylabel('Frequencies')\n",
    "        ax.set_title('Distribution Of Percentage Of Free/Reduced Lunch Given A Range Of Percentage of Black/Hispanic')\n",
    "    elif str(interest) == 'pp_total_raw':\n",
    "        ax.set_xlabel('Per-Pupil Total Expenditure School-By-School')\n",
    "        ax.set_ylabel('Frequencies')\n",
    "        ax.set_title('Distribution Of Per-Pupil Total Expenditure Given A Range OF Percentage of Black/Hispanic')\n",
    "        ax.set_xticklabels(ax.get_xticklabels(),rotation = 90)\n",
    "        plt.show()\n",
    "    else:\n",
    "        return 'Interest variable is not available!! Please retype one of the following: pct_free/reduced or pp_total_raw'\n",
    "    return plt.show()\n",
    "\n",
    "## function return number of product max access in given time (calulated by mean pct_access or engagement_index)\n",
    "def max_product_interest(interest, amount): # amount is the number of rank_max expected\n",
    "    c = [str(x+1)+'st Max' for x in range(amount)]\n",
    "    pivot_df = product_access.groupby(['time','product_name'])[str(interest)].agg(np.mean).unstack().reset_index()\n",
    "    df = (pivot_df.set_index('time')\n",
    "          .apply(lambda x: pd.Series(x.nlargest(amount).index, index=c), axis=1)  # return n product_name has largest mean pct_access over The US in given time\n",
    "          .reset_index())\n",
    "    return df\n",
    "\n",
    "# function plot Frequencies of product ranked by calculating mean of pct_access or engagement_index over month\n",
    "def plot_product_month(interest, rank_number_max, amount):\n",
    "    temp = max_product_interest(interest,amount)\n",
    "    temp['month'] = pd.DatetimeIndex(temp['time']).month  # add column month\n",
    "    temp = pd.DataFrame(temp.groupby(['month'])[str(rank_number_max)+'st Max'].value_counts()).rename(columns={str(rank_number_max)+'st Max':'count'}).reset_index()\n",
    "    fig = px.bar(temp, x=\"month\", y=\"count\", color=str(rank_number_max)+'st Max', title=\"The Change Of \"+str(rank_number_max)+'st Max'+' Product Over Month ('+str(interest)+')')\n",
    "    return fig.show()\n",
    "\n",
    "#function plot mean daily page_load_per_student by state and product_name\n",
    "def mean_daily_pageload_or_access(list_id_product, group_by, interest): # group_by is state or product_name (choose one out of them)\n",
    "    temp = result[result['lp_id'].isin(list_id_product)]\n",
    "    temp = pd.merge(temp, product_info[['lp_id', 'product_name']], on = 'lp_id')\n",
    "    temp =  temp.groupby([str(group_by)])[str(interest)].agg(np.mean).to_frame().reset_index().sort_values(by = str(interest),ascending = False)\n",
    "    plt.figure(figsize=(10,6))\n",
    "    if str(group_by) == 'product_name':\n",
    "        ax = sns.barplot(data = temp, y = str(group_by), x = str(interest), color='orange')\n",
    "        ax.set_xlabel('Mean Daily '+str(interest))\n",
    "        ax.set_title('Mean Daily '+str(interest) +' In Top '+ str(len(temp)) +' Products In The US')\n",
    "        ax.set_ylabel('Product Name')\n",
    "    elif str(group_by) == 'state':\n",
    "        clrs = [sns.color_palette(\"Set2\")[4] if (x < temp[str(interest)].mean()) else sns.color_palette(\"Set2\")[1] for x in temp[str(interest)]] # set bars chart smaller than mean are green, else orange\n",
    "        ax = sns.barplot(data = temp, y = 'state', x = str(interest), palette=clrs)\n",
    "        ax.axvline(temp[str(interest)].mean(), color='b', linestyle='--', label=\"Mean\") # set mean line\n",
    "        ax.set_title('Mean Daily  '+ str(interest)+' '+ str(len(list_id_product)) +' Given Products Per Student By State')\n",
    "        ax.set_xlabel('Mean Daily '+str(interest))\n",
    "        ax.set_ylabel('State')\n",
    "    else:\n",
    "        return 'Not match! Please retype one of the following: product_name or state'\n",
    "    return plt.show()"
   ]
  },
  {
   "cell_type": "code",
   "execution_count": null,
   "metadata": {
    "pycharm": {
     "name": "#%%\n"
    }
   },
   "outputs": [],
   "source": [
    "max_product_interest('pct_access',4) # example of dataframe return top 4 products over time"
   ]
  },
  {
   "cell_type": "code",
   "execution_count": null,
   "metadata": {
    "pycharm": {
     "name": "#%%\n"
    }
   },
   "outputs": [],
   "source": [
    "# plot 1st Max ranked products over month to observe the change among them and differences when based on calculating pct_access and engagement_index\n",
    "plot_product_month('pct_access',1,4)\n",
    "plot_product_month('engagement_index',1, 4)"
   ]
  },
  {
   "cell_type": "code",
   "execution_count": null,
   "metadata": {
    "pycharm": {
     "name": "#%%\n"
    }
   },
   "outputs": [],
   "source": [
    "# 3st Max\n",
    "plot_product_month('pct_access',3,4)\n",
    "# 4st Max\n",
    "plot_product_month('pct_access',4,4)"
   ]
  },
  {
   "cell_type": "code",
   "execution_count": null,
   "metadata": {
    "pycharm": {
     "name": "#%%\n"
    }
   },
   "outputs": [],
   "source": [
    "top_10products_id = id_product_name(list_product[0]) # top 10 products considered\n",
    "mean_daily_pageload_or_access(top_10products_id,'state', 'page_load_per_student') # page_load_per_student\n",
    "mean_daily_pageload_or_access(top_10products_id, 'state','pct_access') # pct_access"
   ]
  },
  {
   "cell_type": "code",
   "execution_count": null,
   "metadata": {
    "pycharm": {
     "name": "#%%\n"
    }
   },
   "outputs": [],
   "source": [
    "mean_daily_pageload_or_access(top_10products_id, 'product_name', 'page_load_per_student') # page_load_per_student\n",
    "mean_daily_pageload_or_access(top_10products_id, 'product_name', 'pct_access') # pct_access"
   ]
  },
  {
   "cell_type": "code",
   "execution_count": null,
   "metadata": {
    "pycharm": {
     "name": "#%%\n"
    }
   },
   "outputs": [],
   "source": [
    "# function plot the change or difference of chosen products by all state exist in recorded dataset\n",
    "def plot_product_pageload_change_by_state(list_id_product):\n",
    "    temp = result[result['lp_id'].isin(list_id_product)]\n",
    "    temp = pd.merge(temp, product_info[['lp_id', 'product_name']], on = 'lp_id')\n",
    "    temp = temp.groupby(['product_name','state'])['page_load_per_student'].agg(np.mean).to_frame().reset_index().sort_values(by = 'page_load_per_student',ascending = False)\n",
    "    state_l = list(temp['state'].unique())\n",
    "    # dynamic subplot layout\n",
    "    num_plots = len(state_l)\n",
    "    total_cols = 3\n",
    "    total_rows = num_plots//total_cols + 1\n",
    "    fig, axs = plt.subplots(nrows=total_rows, ncols=total_cols,\n",
    "                            figsize=(5*total_cols, 5*total_rows), constrained_layout=True)\n",
    "    for i, var in enumerate(state_l):\n",
    "        row = i//total_cols\n",
    "        pos = i % total_cols\n",
    "        plot = sns.barplot(data=temp[temp['state'] == state_l[i]], y='product_name', x = 'page_load_per_student', color='lightgreen', ax=axs[row][pos])\n",
    "        plot.title.set_text(str(state_l[i]))"
   ]
  },
  {
   "cell_type": "code",
   "execution_count": null,
   "metadata": {
    "pycharm": {
     "name": "#%%\n"
    }
   },
   "outputs": [],
   "source": [
    "plot_product_pageload_change_by_state(top_10products_id) # plot top 10 product most popular"
   ]
  },
  {
   "cell_type": "code",
   "execution_count": null,
   "metadata": {
    "pycharm": {
     "name": "#%%\n"
    }
   },
   "outputs": [],
   "source": [
    "# function plot distribution of interest such as pct_access, engagement_index or page load per student by state over week with optional list id products\n",
    "def plot_interest_by_state_over_week(interest, list_id_product, method_wanted, list_2_state_highlighted): # method is np.mean or np.median\n",
    "    temp = result[result['lp_id'].isin(list_id_product)]\n",
    "    temp = pd.merge(temp, product_info[['lp_id', 'product_name']], on = 'lp_id')\n",
    "    temp['time'] = pd.to_datetime(temp['time'])\n",
    "    temp['week'] = temp['time'].dt.isocalendar().week\n",
    "    # simple line chart with Plotly Express\n",
    "    import plotly.express as px\n",
    "    df_used_plot = temp.groupby(['week','state'])[str(interest)].agg(method_wanted).to_frame().reset_index()\n",
    "    # sort the dataframe\n",
    "    sorted_df = df_used_plot.copy()\n",
    "    # map the value order\n",
    "    sorted_df[\"order\"] = sorted_df[\"state\"].map({list_2_state_highlighted[0]:1, list_2_state_highlighted[1]:2}).fillna(3)\n",
    "    # sort by this order\n",
    "    sorted_df.sort_values(by=[\"order\",\"week\"], ascending=False, inplace=True)\n",
    "\n",
    "    fig = px.line(sorted_df,\n",
    "                  x=\"week\",\n",
    "                  y=str(interest),\n",
    "                  color=\"state\",\n",
    "                  title=\"Distribution Of \" + str(interest) + ' By State Over Week')\n",
    "    # set color of all traces to lightgrey\n",
    "    fig.update_traces({\"line\":{\"color\":\"lightgrey\"}})\n",
    "    # color state line to blue\n",
    "    fig.update_traces(patch={\"line\":{\"color\":\"blue\", \"width\":5}},\n",
    "                      selector={\"legendgroup\":list_2_state_highlighted[0]})\n",
    "    # color other state line to red\n",
    "    fig.update_traces(patch={\"line\":{\"color\":\"red\", \"width\":5}},\n",
    "                      selector={\"legendgroup\":list_2_state_highlighted[1]})\n",
    "    # remove the legend, y-axis and add a title\n",
    "    fig.update_layout(title=\"Distribution Of \" + str(interest) + ' Of ' + str(len(list_id_product)) + ' Products By State Over Week',\n",
    "                      showlegend=False,\n",
    "                      yaxis={\"visible\":False})\n",
    "\n",
    "    # plot the chart\n",
    "    return fig.show()\n",
    "\n",
    "# function plot distribution of interest such as pct_access, engagement_index or page load per student by state over week with optional list id products\n",
    "def plot_interest_by_state_over_week_any_products(interest, method_wanted, list_2_state_highlighted): # method is np.mean or np.median\n",
    "    temp = result.copy()\n",
    "    temp['time'] = pd.to_datetime(temp['time'])\n",
    "    temp['week'] = temp['time'].dt.isocalendar().week\n",
    "    # simple line chart with Plotly Express\n",
    "    import plotly.express as px\n",
    "    df_used_plot = temp.groupby(['week','state'])[str(interest)].agg(method_wanted).to_frame().reset_index()\n",
    "    # sort the dataframe\n",
    "    sorted_df = df_used_plot.copy()\n",
    "    # map the value order\n",
    "    sorted_df[\"order\"] = sorted_df[\"state\"].map({list_2_state_highlighted[0]:1, list_2_state_highlighted[1]:2}).fillna(3)\n",
    "    # sort by this order\n",
    "    sorted_df.sort_values(by=[\"order\",\"week\"], ascending=False, inplace=True)\n",
    "\n",
    "    fig = px.line(sorted_df,\n",
    "                  x=\"week\",\n",
    "                  y=str(interest),\n",
    "                  color=\"state\",\n",
    "                  title=\"Distribution Of \" + str(interest) + ' By State Over Week')\n",
    "    # set color of all traces to lightgrey\n",
    "    fig.update_traces({\"line\":{\"color\":\"lightgrey\"}})\n",
    "    # color state line to blue\n",
    "    fig.update_traces(patch={\"line\":{\"color\":\"blue\", \"width\":5}},\n",
    "                      selector={\"legendgroup\":list_2_state_highlighted[0]})\n",
    "    # color other state line to red\n",
    "    fig.update_traces(patch={\"line\":{\"color\":\"red\", \"width\":5}},\n",
    "                      selector={\"legendgroup\":list_2_state_highlighted[1]})\n",
    "    # remove the legend, y-axis and add a title\n",
    "    fig.update_layout(title=\"Distribution Of \" + str(interest) + ' Of ' + ' Any Products Including Products Not Recorded In Product Info DataFrame By State Over Week',\n",
    "                      showlegend=False,\n",
    "                      yaxis={\"visible\":False})\n",
    "\n",
    "    # plot the chart\n",
    "    return fig.show()"
   ]
  },
  {
   "cell_type": "code",
   "execution_count": null,
   "metadata": {
    "pycharm": {
     "name": "#%%\n"
    }
   },
   "outputs": [],
   "source": [
    "plot_interest_by_state_over_week('page_load_per_student', top_10products_id, np.mean, ['New York', 'Texas']) # highlight one the most pageloadperstudent one the least"
   ]
  },
  {
   "cell_type": "code",
   "execution_count": null,
   "metadata": {
    "pycharm": {
     "name": "#%%\n"
    }
   },
   "outputs": [],
   "source": [
    "plot_interest_by_state_over_week('pct_access', top_10products_id, np.mean, ['North Dakota', 'North Carolina'] ) # highlight one the most access and another the least access\n",
    "plot_interest_by_state_over_week_any_products('pct_access', np.mean, ['North Dakota', 'North Carolina'] ) # any products icluding not recorded in product_info dataframe"
   ]
  },
  {
   "cell_type": "code",
   "execution_count": null,
   "metadata": {
    "pycharm": {
     "name": "#%%\n"
    }
   },
   "outputs": [],
   "source": [
    "plt.figure(figsize=(10,8))\n",
    "ax = sns.countplot(data=districts_info.sort_values(['pct_black/hispanic']).reset_index(drop=True), x='pct_black/hispanic', color='grey') # sort value\n",
    "ax.set_title('Distribution Of Pecentages Of Black/Hispanic By School District')\n",
    "ax.set_xlabel('Range Of Percentages Of Black/Hispanic ')\n",
    "ax.set_ylabel('Frequencies')\n",
    "\n",
    "# set orange color for the highest bar\n",
    "patch_h = []\n",
    "for patch in ax.patches:\n",
    "    reading = patch.get_height()\n",
    "    patch_h.append(reading)\n",
    "# patch_h contains the heights of all the patches now\n",
    "idx_tallest = np.argmax(patch_h)\n",
    "# np.argmax return the index of largest value of the list\n",
    "ax.patches[idx_tallest].set_facecolor('orange')"
   ]
  },
  {
   "cell_type": "code",
   "execution_count": null,
   "metadata": {
    "pycharm": {
     "name": "#%%\n"
    }
   },
   "outputs": [],
   "source": [
    "# plot multiple plot about pct_black/hispanic, pct_free/reduced, county_connections_ratio and pp_total_raw\n",
    "X = [ (2,3,1),(2,3,2), (2,3,3),(2,1,2)]\n",
    "columns = list(districts_info)[3:]\n",
    "plt.figure(figsize=(16,11))\n",
    "i = 0\n",
    "for nrows, ncols, plot_number in X:\n",
    "    name = columns[i]\n",
    "    plt.subplot(nrows, ncols, plot_number)\n",
    "    ax = sns.countplot(data=districts_info.sort_values([str(name)]).reset_index(drop=True), hue='locale', x=str(name), palette='Set3')\n",
    "    ax.legend(loc='upper right')\n",
    "    ax.set_ylabel('Frequencies')\n",
    "    i = i+1"
   ]
  },
  {
   "cell_type": "code",
   "execution_count": null,
   "metadata": {
    "pycharm": {
     "name": "#%%\n"
    }
   },
   "outputs": [],
   "source": [
    "plot_distribution_based_black_hispanic('pct_free/reduced')\n",
    "plot_distribution_based_black_hispanic('pp_total_raw')"
   ]
  },
  {
   "cell_type": "code",
   "execution_count": null,
   "metadata": {
    "pycharm": {
     "name": "#%%\n"
    }
   },
   "outputs": [],
   "source": [
    "product_access.corr()"
   ]
  },
  {
   "cell_type": "code",
   "execution_count": null,
   "metadata": {
    "pycharm": {
     "name": "#%%\n"
    }
   },
   "outputs": [],
   "source": [
    "mean_pct_eng = result.groupby('pct_black/hispanic')[['engagement_index','pct_access']].agg(['mean']).reset_index()\n",
    "mean_pct_eng.columns = [col[0] for col in mean_pct_eng.columns] # rebuild columns\n",
    "d = {}\n",
    "for ratio in ['[0, 0.2[','[0.2, 0.4[','[0.4, 0.6[','[0.6, 0.8[','[0.8, 1[']:\n",
    "    value = result[result['pct_black/hispanic']== ratio]['district_id'].nunique()\n",
    "    d[ratio] = value\n",
    "d = pd.DataFrame.from_dict(d, orient = 'index', columns = ['freq_appear']).reset_index()\n",
    "race_related_inf = pd.concat([mean_pct_eng, d], axis=1).drop(columns=['index'])"
   ]
  },
  {
   "cell_type": "code",
   "execution_count": null,
   "metadata": {
    "pycharm": {
     "name": "#%%\n"
    }
   },
   "outputs": [],
   "source": [
    "race_related_inf"
   ]
  },
  {
   "cell_type": "code",
   "execution_count": null,
   "metadata": {
    "pycharm": {
     "name": "#%%\n"
    }
   },
   "outputs": [],
   "source": [
    "nita_gov_data = pd.read_csv(r'/kaggle/input/ntiagov-dataset/ntia_analyze_2020.csv') #data set get on https://www.ntia.gov/files/ntia/publications/ntia-analyze-table_2020-05-15.csv"
   ]
  },
  {
   "cell_type": "code",
   "execution_count": null,
   "metadata": {
    "pycharm": {
     "name": "#%%\n"
    }
   },
   "outputs": [],
   "source": [
    "list = ['canUseElsewhereMainReason','noNeedInterestMainReason','noComputerMainReason','unavailableMainReason','privSecMainReason','tooExpensiveMainReason']\n",
    "not_internet_reason = nita_gov_data[nita_gov_data['variable'].isin(list)][['dataset','usProp','description']] # extract data realated to main reason not internet\n",
    "not_internet_reason['usProp'] = not_internet_reason['usProp']*100 #convert to percentage\n",
    "not_internet_reason['description'] = not_internet_reason['description'].apply(lambda x:x.replace(\"Main Reason for Household Not Online at Home: \",\"\")) # convert string for readable"
   ]
  },
  {
   "cell_type": "code",
   "execution_count": null,
   "metadata": {
    "pycharm": {
     "name": "#%%\n"
    }
   },
   "outputs": [],
   "source": [
    "import plotly.express as px\n",
    "fig = px.line(not_internet_reason, x='dataset', y='usProp', color='description')\n",
    "fig.update_layout(\n",
    "    title=\"Main Reason For Not Having Access\",\n",
    "    xaxis_title=\"Time\",\n",
    "    yaxis_title=\"Percent\",\n",
    "    legend_title=\"Main Reason\",\n",
    "    font=dict(\n",
    "        family=\"Courier New, monospace\",\n",
    "        size=15,\n",
    "        color=\"Black\"\n",
    "    )\n",
    ")\n",
    "fig.show()"
   ]
  },
  {
   "cell_type": "code",
   "execution_count": null,
   "metadata": {
    "pycharm": {
     "name": "#%%\n"
    }
   },
   "outputs": [],
   "source": [
    "segment = pd.read_csv(r'/kaggle/input/student-segment/student_segment.csv').dropna() # dataset source: U.S. Census Bureau Household Pulse Survey, Week 5.\n",
    "list_segment_columns = segment.columns.values.tolist()[1:]\n",
    "for col in list_segment_columns:\n",
    "    segment[col] = segment[col].apply(lambda x: x.replace(\",\",\"\")).astype('int64')  # reformat and convert to int\n",
    "\n",
    "# usually & rarely & sometime --> insuficient, never & always --> full\n",
    "segment[\"avail_device\"] = segment['Device always available for educational purposes']\n",
    "segment['full_connect'] = segment['Internet always available for educational purposes']\n",
    "segment[\"unavail_device\"] = segment['Device never available for educational purposes']\n",
    "segment['full_disconnect'] = segment['Internet never available for educational purposes']\n",
    "segment[\"device_deficient\"] = segment['Device sometimes available for educational purposes'] + segment['Device usually available for educational purposes'] + segment['Device rarely available for educational purposes']\n",
    "segment['connect_deficient'] = segment['Internet sometimes available for educational purposes'] + segment['Internet usually available for educational purposes'] + segment['Internet rarely available for educational purposes']\n",
    "segment.drop(columns=segment.columns.values.tolist()[2:12],inplace =True)\n",
    "# display\n",
    "segment"
   ]
  },
  {
   "cell_type": "code",
   "execution_count": null,
   "metadata": {
    "pycharm": {
     "name": "#%%\n"
    }
   },
   "outputs": [],
   "source": [
    "%%HTML\n",
    "<iframe width=560 height=349 src=https://player.cnbc.com/p/gZWlPC/cnbc_global?playertype=synd&byGuid=7000181309 frameborder=0 scrolling=no allowfullscreen webkitallowfullscreen mozallowfullscreen oallowfullscreen msallowfullscreen ></iframe>"
   ]
  },
  {
   "cell_type": "code",
   "execution_count": null,
   "metadata": {
    "pycharm": {
     "name": "#%%\n"
    }
   },
   "outputs": [],
   "source": [
    "unemploy_rate = pd.read_csv(r'/kaggle/input/unemployment-rate/unemployment_rate.csv', header = 1) # source: U.S. Bureau of Labor Statistics, Current Population Survey.\n",
    "import plotly.graph_objects as go\n",
    "fig = go.Figure()\n",
    "fig.add_trace(go.Scatter(x=unemploy_rate['Quarter'], y=unemploy_rate['Labor force participation rate'],\n",
    "                         mode='lines',\n",
    "                         name='Labor force participation rate'))\n",
    "fig.add_trace(go.Scatter(x=unemploy_rate['Quarter'], y=unemploy_rate['Employment–population ratio'],\n",
    "                         mode='lines',\n",
    "                         name='Employment–population ratio'))\n",
    "# Edit the layout\n",
    "fig.update_layout(title='Labor force participation rate and employment–population ratio, quarterly averages, seasonally adjusted, 2000–20',\n",
    "                  xaxis_title='Quarter',\n",
    "                  yaxis_title='Percent')\n",
    "fig.show()"
   ]
  },
  {
   "cell_type": "code",
   "execution_count": null,
   "metadata": {
    "pycharm": {
     "name": "#%%\n"
    }
   },
   "outputs": [],
   "source": [
    "by_income = pd.read_csv(r'/kaggle/input/by-income/by_income.csv') # read file csv\n",
    "# clean, reformat and pre-procssing\n",
    "by_income['Household income ']=by_income['Household income '].apply(lambda x : x.strip(\" \"))\n",
    "by_income['avail_device/internet/both'] = (by_income['Device always available for educational purposes']+by_income['Internet always available for educational purposes'])/2\n",
    "by_income['ineffiecient_device/internet/both'] = (by_income['Device usually available for educational purposes']+by_income['Device sometimes available for educational purposes']+by_income['Device rarely available for educational purposes']\n",
    "                                                  +by_income['Internet usually available for educational purposes']+by_income['Internet sometimes available for educational purposes']+by_income['Internet rarely available for educational purposes'])/6\n",
    "by_income['unavail_device/internet/both'] = (by_income['Device never available for educational purposes']+by_income['Internet never available for educational purposes'])/2\n",
    "by_income.drop(columns=by_income.columns.values.tolist()[2:14],inplace=True)\n",
    "by_income['Household income '] = by_income['Household income '].apply(lambda x:x.replace(\"$\",\"\"))\n",
    "#plot bar chart\n",
    "import plotly.graph_objects as go\n",
    "\n",
    "fig = go.Figure()\n",
    "\n",
    "fig.add_trace(go.Bar(\n",
    "    y=by_income['Household income '],\n",
    "    x=by_income['avail_device/internet/both'],\n",
    "    name='Available Device/Internet or Both',\n",
    "    orientation='h',\n",
    "    marker=dict(\n",
    "        color='rgba(246, 78, 139, 0.6)',\n",
    "        line=dict(color='rgba(246, 78, 139, 1.0)', width=1))))\n",
    "fig.add_trace(go.Bar(\n",
    "    y=by_income['Household income '],\n",
    "    x=by_income['ineffiecient_device/internet/both'],\n",
    "    name='Inefficient Device/Internet or Both',\n",
    "    orientation='h',\n",
    "    marker=dict(\n",
    "        color='rgba(18, 36, 97, 0.6)',\n",
    "        line=dict(color='rgba(18, 36, 97, 1.0)', width=1))))\n",
    "\n",
    "fig.add_trace(go.Bar(\n",
    "    y=by_income['Household income '],\n",
    "    x=by_income['unavail_device/internet/both'],\n",
    "    name='Unavailable Device/Internet or Both',\n",
    "    orientation='h',\n",
    "    marker=dict(\n",
    "        color='rgba(58, 71, 80, 0.6)',\n",
    "        line=dict(color='rgba(58, 71, 80, 1.0)', width=1))))\n",
    "\n",
    "fig.update_layout(barmode='stack',yaxis_title=\"Dollar ($)\", title=\"Digital Divide By Income Level In Week 5, 2020\")\n",
    "fig.show()\n",
    "\n",
    "by_race = pd.read_csv(r'/kaggle/input/by-race/by_race.csv') # read file csv\n",
    "# clean, reformat and pre-procssing\n",
    "by_race['Hispanic origin and Race ']=by_race['Hispanic origin and Race '].apply(lambda x : x.strip(\" \"))\n",
    "by_race['avail_device/internet/both'] = (by_race['Device always available for educational purposes']+by_race['Internet always available for educational purposes'])/2\n",
    "by_race['ineffiecient_device/internet/both'] = (by_race['Device usually available for educational purposes']+by_race['Device sometimes available for educational purposes']+by_race['Device rarely available for educational purposes']\n",
    "                                                +by_race['Internet usually available for educational purposes']+by_race['Internet sometimes available for educational purposes']+by_race['Internet rarely available for educational purposes'])/6\n",
    "by_race['unavail_device/internet/both'] = (by_race['Device never available for educational purposes']+by_race['Internet never available for educational purposes'])/2\n",
    "by_race.drop(columns=by_race.columns.values.tolist()[2:14],inplace=True)\n",
    "\n",
    "#plot bar chart\n",
    "import plotly.graph_objects as go\n",
    "\n",
    "fig = go.Figure()\n",
    "\n",
    "fig.add_trace(go.Bar(\n",
    "    y=by_race['Hispanic origin and Race '],\n",
    "    x=by_race['avail_device/internet/both'],\n",
    "    name='Available Device/Internet or Both',\n",
    "    orientation='h',\n",
    "    marker=dict(\n",
    "        color='rgba(246, 78, 139, 0.6)',\n",
    "        line=dict(color='rgba(246, 78, 139, 1.0)', width=1))))\n",
    "\n",
    "fig.add_trace(go.Bar(\n",
    "    y=by_race['Hispanic origin and Race '],\n",
    "    x=by_race['ineffiecient_device/internet/both'],\n",
    "    name='Inefficient Device/Internet or Both',\n",
    "    orientation='h',\n",
    "    marker=dict(\n",
    "        color='rgba(18, 36, 97, 0.6)',\n",
    "        line=dict(color='rgba(18, 36, 97, 1.0)', width=1))))\n",
    "fig.add_trace(go.Bar(\n",
    "    y=by_race['Hispanic origin and Race '],\n",
    "    x=by_race['unavail_device/internet/both'],\n",
    "    name='Unavailable Device/Internet or Both',\n",
    "    orientation='h',\n",
    "    marker=dict(\n",
    "        color='rgba(58, 71, 80, 0.6)',\n",
    "        line=dict(color='rgba(58, 71, 80, 1.0)', width=1))))\n",
    "\n",
    "fig.update_layout(barmode='stack',yaxis_title=\"Race\", title=\"Digital Divide By Race/Ethnic In Week 5, 2020\")\n",
    "fig.show()"
   ]
  },
  {
   "cell_type": "code",
   "execution_count": null,
   "metadata": {
    "pycharm": {
     "name": "#%%\n"
    }
   },
   "outputs": [],
   "source": []
  }
 ],
 "metadata": {
  "kernelspec": {
   "display_name": "Python 3 (ipykernel)",
   "language": "python",
   "name": "python3"
  },
  "language_info": {
   "codemirror_mode": {
    "name": "ipython",
    "version": 3
   },
   "file_extension": ".py",
   "mimetype": "text/x-python",
   "name": "python",
   "nbconvert_exporter": "python",
   "pygments_lexer": "ipython3",
   "version": "3.9.12"
  }
 },
 "nbformat": 4,
 "nbformat_minor": 1
}
